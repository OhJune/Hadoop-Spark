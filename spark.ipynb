{
 "cells": [
  {
   "cell_type": "code",
   "execution_count": 1,
   "id": "17e951fb-8036-43ff-abd9-c057071d2d90",
   "metadata": {},
   "outputs": [],
   "source": [
    "from pyspark.sql.functions import col\n",
    "from pyspark.sql.functions import explode\n",
    "from pyspark.sql.functions import count\n",
    "from pyspark.sql.functions import regexp_replace\n",
    "from pyspark.sql.functions import when, array_contains, coalesce, udf, StringType"
   ]
  },
  {
   "cell_type": "code",
   "execution_count": 2,
   "id": "24ec49df-cb91-4fde-8e6b-2c3ef9d99804",
   "metadata": {},
   "outputs": [],
   "source": [
    "from pyspark.sql import SparkSession"
   ]
  },
  {
   "cell_type": "code",
   "execution_count": 3,
   "id": "5343c7dc-281d-4bdb-a1ad-3f0e2d8c3744",
   "metadata": {},
   "outputs": [
    {
     "name": "stderr",
     "output_type": "stream",
     "text": [
      "your 131072x1 screen size is bogus. expect trouble\n",
      "23/08/24 20:39:38 WARN Utils: Your hostname, DESKTOP-I232434 resolves to a loopback address: 127.0.1.1; using 172.26.135.140 instead (on interface eth0)\n",
      "23/08/24 20:39:38 WARN Utils: Set SPARK_LOCAL_IP if you need to bind to another address\n",
      "Setting default log level to \"WARN\".\n",
      "To adjust logging level use sc.setLogLevel(newLevel). For SparkR, use setLogLevel(newLevel).\n",
      "23/08/24 20:39:40 WARN NativeCodeLoader: Unable to load native-hadoop library for your platform... using builtin-java classes where applicable\n"
     ]
    }
   ],
   "source": [
    "spark = SparkSession.builder \\\n",
    "    .appName(\"My Spark Application\") \\\n",
    "    .config(\"spark.some.config.option\", \"config-value\") \\\n",
    "    .getOrCreate()"
   ]
  },
  {
   "cell_type": "code",
   "execution_count": 13,
   "id": "54e795d0-6fd0-4a1f-975d-1b6ed15da4ad",
   "metadata": {},
   "outputs": [
    {
     "data": {
      "text/plain": [
       "[Row(event_time='2019-11-01 00:00:00 UTC', event_type='view', product_id='1003461', category_id='2053013555631882655', category_code='electronics.smartphone', brand='xiaomi', price='489.07', user_id='520088904', user_session='4d3b30da-a5e4-49df-b1a8-ba5943f1dd33'),\n",
       " Row(event_time='2019-11-01 00:00:00 UTC', event_type='view', product_id='5000088', category_id='2053013566100866035', category_code='appliances.sewing_machine', brand='janome', price='293.65', user_id='530496790', user_session='8e5f4f83-366c-4f70-860e-ca7417414283'),\n",
       " Row(event_time='2019-11-01 00:00:01 UTC', event_type='view', product_id='17302664', category_id='2053013553853497655', category_code=None, brand='creed', price='28.31', user_id='561587266', user_session='755422e7-9040-477b-9bd2-6a6e8fd97387'),\n",
       " Row(event_time='2019-11-01 00:00:01 UTC', event_type='view', product_id='3601530', category_id='2053013563810775923', category_code='appliances.kitchen.washer', brand='lg', price='712.87', user_id='518085591', user_session='3bfb58cd-7892-48cc-8020-2f17e6de6e7f'),\n",
       " Row(event_time='2019-11-01 00:00:01 UTC', event_type='view', product_id='1004775', category_id='2053013555631882655', category_code='electronics.smartphone', brand='xiaomi', price='183.27', user_id='558856683', user_session='313628f1-68b8-460d-84f6-cec7a8796ef2'),\n",
       " Row(event_time='2019-11-01 00:00:01 UTC', event_type='view', product_id='1306894', category_id='2053013558920217191', category_code='computers.notebook', brand='hp', price='360.09', user_id='520772685', user_session='816a59f3-f5ae-4ccd-9b23-82aa8c23d33c'),\n",
       " Row(event_time='2019-11-01 00:00:01 UTC', event_type='view', product_id='1306421', category_id='2053013558920217191', category_code='computers.notebook', brand='hp', price='514.56', user_id='514028527', user_session='df8184cc-3694-4549-8c8c-6b5171877376'),\n",
       " Row(event_time='2019-11-01 00:00:02 UTC', event_type='view', product_id='15900065', category_id='2053013558190408249', category_code=None, brand='rondell', price='30.86', user_id='518574284', user_session='5e6ef132-4d7c-4730-8c7f-85aa4082588f'),\n",
       " Row(event_time='2019-11-01 00:00:02 UTC', event_type='view', product_id='12708937', category_id='2053013553559896355', category_code=None, brand='michelin', price='72.72', user_id='532364121', user_session='0a899268-31eb-46de-898d-09b2da950b24'),\n",
       " Row(event_time='2019-11-01 00:00:02 UTC', event_type='view', product_id='1004258', category_id='2053013555631882655', category_code='electronics.smartphone', brand='apple', price='732.07', user_id='532647354', user_session='d2d3d2c6-631d-489e-9fb5-06f340b85be0'),\n",
       " Row(event_time='2019-11-01 00:00:03 UTC', event_type='view', product_id='17200570', category_id='2053013559792632471', category_code='furniture.living_room.sofa', brand=None, price='437.33', user_id='518780843', user_session='aa806835-b14c-45af-9538-cd4d1849be3e'),\n",
       " Row(event_time='2019-11-01 00:00:03 UTC', event_type='view', product_id='2701517', category_id='2053013563911439225', category_code='appliances.kitchen.refrigerators', brand=None, price='155.11', user_id='518427361', user_session='c89b0d96-247f-4044-9c91-bb5f38c6af9b'),\n",
       " Row(event_time='2019-11-01 00:00:03 UTC', event_type='view', product_id='16700260', category_id='2053013559901684381', category_code='furniture.kitchen.chair', brand=None, price='31.64', user_id='566255262', user_session='173d7b72-1db7-4638-8207-be8148bf3c9f'),\n",
       " Row(event_time='2019-11-01 00:00:04 UTC', event_type='view', product_id='34600011', category_id='2060981320581906480', category_code=None, brand=None, price='20.54', user_id='512416379', user_session='4dfe2c67-e537-4dc2-ae69-0b65263db091'),\n",
       " Row(event_time='2019-11-01 00:00:05 UTC', event_type='view', product_id='4600658', category_id='2053013563944993659', category_code='appliances.kitchen.dishwasher', brand='samsung', price='411.83', user_id='526595547', user_session='aab33a9a-29c3-4d50-84c1-8a2bc9256104'),\n",
       " Row(event_time='2019-11-01 00:00:06 UTC', event_type='view', product_id='24900193', category_id='2053013562183385881', category_code=None, brand=None, price='1.09', user_id='512651494', user_session='f603c815-f51a-46fe-9404-cb586e35edaf'),\n",
       " Row(event_time='2019-11-01 00:00:07 UTC', event_type='view', product_id='27400066', category_id='2053013563391345499', category_code=None, brand=None, price='8.55', user_id='551061950', user_session='3f6112f1-5695-4e88-bb0a-49f9e36658ff'),\n",
       " Row(event_time='2019-11-01 00:00:07 UTC', event_type='view', product_id='5100503', category_id='2053013553375346967', category_code=None, brand='xiaomi', price='22.68', user_id='520037415', user_session='f54fa96a-f3f2-43ac-99a4-fcb2a449dd36'),\n",
       " Row(event_time='2019-11-01 00:00:07 UTC', event_type='view', product_id='1004566', category_id='2053013555631882655', category_code='electronics.smartphone', brand='huawei', price='164.84', user_id='566265908', user_session='52c2c76c-b79e-4794-86ff-badc76d35f5a'),\n",
       " Row(event_time='2019-11-01 00:00:08 UTC', event_type='view', product_id='1307115', category_id='2053013558920217191', category_code='computers.notebook', brand='hp', price='411.59', user_id='514028527', user_session='df8184cc-3694-4549-8c8c-6b5171877376'),\n",
       " Row(event_time='2019-11-01 00:00:08 UTC', event_type='view', product_id='12719154', category_id='2053013553559896355', category_code=None, brand='yokohama', price='88.81', user_id='512376444', user_session='f7e8ffaa-5103-47f3-90ab-c30f313770c0'),\n",
       " Row(event_time='2019-11-01 00:00:08 UTC', event_type='view', product_id='1004708', category_id='2053013555631882655', category_code='electronics.smartphone', brand='huawei', price='151.99', user_id='566143627', user_session='aa610ab3-5c60-4551-8a2b-8c999dddf843'),\n",
       " Row(event_time='2019-11-01 00:00:08 UTC', event_type='view', product_id='26022534', category_id='2053013562837697343', category_code=None, brand=None, price='7.07', user_id='566280860', user_session='341a87d8-8cf4-4b4a-8b7d-749380697af1'),\n",
       " Row(event_time='2019-11-01 00:00:08 UTC', event_type='view', product_id='17200558', category_id='2053013559792632471', category_code='furniture.living_room.sofa', brand=None, price='591.78', user_id='566280536', user_session='34e7a822-0b93-4a9a-8ce0-bae4cadb21d8'),\n",
       " Row(event_time='2019-11-01 00:00:09 UTC', event_type='view', product_id='17300016', category_id='2053013553853497655', category_code=None, brand='trussardi', price='55.33', user_id='563769246', user_session='95ab5d5d-be19-4118-84e9-534d65b7a687'),\n",
       " Row(event_time='2019-11-01 00:00:09 UTC', event_type='view', product_id='26019863', category_id='2053013562837697343', category_code=None, brand=None, price='11.79', user_id='566280860', user_session='341a87d8-8cf4-4b4a-8b7d-749380697af1'),\n",
       " Row(event_time='2019-11-01 00:00:09 UTC', event_type='view', product_id='17501048', category_id='2053013558752445019', category_code=None, brand='eveline', price='7.59', user_id='515849878', user_session='31e80b9c-e5b3-437b-9112-c2a110e5c38a'),\n",
       " Row(event_time='2019-11-01 00:00:10 UTC', event_type='view', product_id='1005115', category_id='2053013555631882655', category_code='electronics.smartphone', brand='apple', price='949.47', user_id='562079864', user_session='0fe64462-83eb-4131-ab00-8e764dd995c3'),\n",
       " Row(event_time='2019-11-01 00:00:10 UTC', event_type='view', product_id='1307350', category_id='2053013558920217191', category_code='computers.notebook', brand='acer', price='514.79', user_id='513741043', user_session='82f7f972-346a-41f1-ae58-3ccf1edf6726'),\n",
       " Row(event_time='2019-11-01 00:00:11 UTC', event_type='view', product_id='1307340', category_id='2053013558920217191', category_code='computers.notebook', brand='asus', price='360.34', user_id='520772685', user_session='816a59f3-f5ae-4ccd-9b23-82aa8c23d33c'),\n",
       " Row(event_time='2019-11-01 00:00:11 UTC', event_type='view', product_id='41100055', category_id='2090228413959766319', category_code=None, brand=None, price='38.07', user_id='562234311', user_session='4cbd502f-b1df-4bcf-a1cb-78bb18c37e70'),\n",
       " Row(event_time='2019-11-01 00:00:12 UTC', event_type='view', product_id='16700826', category_id='2053013559901684381', category_code='furniture.kitchen.chair', brand='nika', price='47.77', user_id='566255262', user_session='173d7b72-1db7-4638-8207-be8148bf3c9f'),\n",
       " Row(event_time='2019-11-01 00:00:12 UTC', event_type='view', product_id='30100041', category_id='2053013556110033341', category_code=None, brand=None, price='23.40', user_id='532704496', user_session='cf2c87cc-a4ea-4c98-add1-f916c68e86ca'),\n",
       " Row(event_time='2019-11-01 00:00:12 UTC', event_type='view', product_id='22700205', category_id='2053013556168753601', category_code=None, brand='matrix', price='23.14', user_id='564599988', user_session='d67efe84-f47e-44dd-8abf-a9122c706acd'),\n",
       " Row(event_time='2019-11-01 00:00:12 UTC', event_type='view', product_id='10800182', category_id='2053013554994348409', category_code=None, brand='redmond', price='61.10', user_id='527322328', user_session='5054190a-46cb-4211-a8f1-16fc1a060ed8'),\n",
       " Row(event_time='2019-11-01 00:00:12 UTC', event_type='view', product_id='52000058', category_id='2137704922018218396', category_code=None, brand='tomfarr', price='127.42', user_id='517702267', user_session='42599d98-752a-4fd8-a485-d8d03a753dbb'),\n",
       " Row(event_time='2019-11-01 00:00:13 UTC', event_type='view', product_id='15200565', category_id='2053013553484398879', category_code=None, brand='hyper', price='54.06', user_id='518758107', user_session='f617be3c-8447-4aaf-b9b7-2e23a21a8b58'),\n",
       " Row(event_time='2019-11-01 00:00:13 UTC', event_type='view', product_id='4804194', category_id='2053013554658804075', category_code='electronics.audio.headphone', brand='acme', price='69.24', user_id='565731881', user_session='5d8cb7aa-ca44-4705-809d-53c97b497e16'),\n",
       " Row(event_time='2019-11-01 00:00:13 UTC', event_type='view', product_id='3701016', category_id='2053013565983425517', category_code='appliances.environment.vacuum', brand='tefal', price='108.09', user_id='566278257', user_session='5cafe67a-3c46-4b47-a46a-ab30de4356bc'),\n",
       " Row(event_time='2019-11-01 00:00:14 UTC', event_type='view', product_id='1002544', category_id='2053013555631882655', category_code='electronics.smartphone', brand='apple', price='458.28', user_id='549256216', user_session='dcbdc6e4-cd49-4ee8-95c5-e85f3c618fa1'),\n",
       " Row(event_time='2019-11-01 00:00:14 UTC', event_type='cart', product_id='1005014', category_id='2053013555631882655', category_code='electronics.smartphone', brand='samsung', price='503.09', user_id='533326659', user_session='6b928be2-2bce-4640-8296-0efdf2fda22a'),\n",
       " Row(event_time='2019-11-01 00:00:14 UTC', event_type='view', product_id='27800054', category_id='2079713978300236035', category_code=None, brand=None, price='119.69', user_id='565131688', user_session='95c9377b-f56e-4775-ae49-abd8d952915b'),\n",
       " Row(event_time='2019-11-01 00:00:14 UTC', event_type='view', product_id='2201037', category_id='2053013560555995845', category_code=None, brand='canon', price='437.29', user_id='517811633', user_session='97dc1638-90ea-450a-8499-a31fd8f2e9b1'),\n",
       " Row(event_time='2019-11-01 00:00:15 UTC', event_type='view', product_id='3901174', category_id='2053013552326770905', category_code='appliances.environment.water_heater', brand='oasis', price='32.66', user_id='513200477', user_session='742aba02-727b-4d15-9222-6484ac846173'),\n",
       " Row(event_time='2019-11-01 00:00:15 UTC', event_type='view', product_id='4600603', category_id='2053013563944993659', category_code='appliances.kitchen.dishwasher', brand='bosch', price='684.44', user_id='526595547', user_session='aab33a9a-29c3-4d50-84c1-8a2bc9256104'),\n",
       " Row(event_time='2019-11-01 00:00:16 UTC', event_type='view', product_id='4100297', category_id='2053013561218695907', category_code=None, brand='sony', price='511.13', user_id='551977964', user_session='2058fb5d-047d-46a9-913f-b3b62f3b697c'),\n",
       " Row(event_time='2019-11-01 00:00:16 UTC', event_type='view', product_id='18100047', category_id='2053013557955527211', category_code=None, brand='rezult', price='15.62', user_id='551078379', user_session='57dc2a56-6557-40c0-93b5-b4c7071d3866'),\n",
       " Row(event_time='2019-11-01 00:00:16 UTC', event_type='view', product_id='2300214', category_id='2053013560530830019', category_code='electronics.camera.video', brand=None, price='386.08', user_id='537931532', user_session='22c57267-da98-4f28-9a9c-18bb5b385193'),\n",
       " Row(event_time='2019-11-01 00:00:16 UTC', event_type='view', product_id='26400585', category_id='2053013563651392361', category_code=None, brand='lucente', price='248.66', user_id='533351761', user_session='6229f7bc-7440-44dc-8768-d924071fb879'),\n",
       " Row(event_time='2019-11-01 00:00:17 UTC', event_type='view', product_id='1005161', category_id='2053013555631882655', category_code='electronics.smartphone', brand='xiaomi', price='211.92', user_id='513351129', user_session='e6b7ce9b-1938-4e20-976c-8b4163aea11d'),\n",
       " Row(event_time='2019-11-01 00:00:17 UTC', event_type='view', product_id='21406939', category_id='2053013561579406073', category_code='electronics.clocks', brand='tissot', price='895.78', user_id='513118352', user_session='4c14bf2a-2820-4504-929d-046356a5a204'),\n",
       " Row(event_time='2019-11-01 00:00:17 UTC', event_type='view', product_id='1800729', category_id='2053013554415534427', category_code='electronics.video.tv', brand='samsung', price='289.33', user_id='515782589', user_session='f2081cf0-0ee3-4bf1-9b40-e5e580f9ace3'),\n",
       " Row(event_time='2019-11-01 00:00:17 UTC', event_type='view', product_id='43200121', category_id='2146660887346282824', category_code='apparel.tshirt', brand='goodloot', price='8.73', user_id='566175330', user_session='680fb144-6940-4931-85e6-16dda8d4e2d5'),\n",
       " Row(event_time='2019-11-01 00:00:18 UTC', event_type='view', product_id='44300043', category_id='2100825583029060150', category_code='apparel.jeans', brand=None, price='40.16', user_id='545220871', user_session='f278cca0-e0f6-49a3-819a-d961998282d5'),\n",
       " Row(event_time='2019-11-01 00:00:18 UTC', event_type='view', product_id='1003317', category_id='2053013555631882655', category_code='electronics.smartphone', brand='apple', price='928.18', user_id='532647354', user_session='d2d3d2c6-631d-489e-9fb5-06f340b85be0'),\n",
       " Row(event_time='2019-11-01 00:00:18 UTC', event_type='view', product_id='16700826', category_id='2053013559901684381', category_code='furniture.kitchen.chair', brand='nika', price='47.77', user_id='566255262', user_session='173d7b72-1db7-4638-8207-be8148bf3c9f'),\n",
       " Row(event_time='2019-11-01 00:00:18 UTC', event_type='view', product_id='10701060', category_id='2053013561277416167', category_code=None, brand=None, price='66.90', user_id='512996121', user_session='23375068-25db-44fd-86a8-52123e47e93e'),\n",
       " Row(event_time='2019-11-01 00:00:19 UTC', event_type='view', product_id='27400066', category_id='2053013563391345499', category_code=None, brand=None, price='8.55', user_id='551061950', user_session='3f6112f1-5695-4e88-bb0a-49f9e36658ff'),\n",
       " Row(event_time='2019-11-01 00:00:19 UTC', event_type='view', product_id='25600085', category_id='2053013559675191951', category_code=None, brand='brw', price='134.37', user_id='522031876', user_session='39d48518-9fca-4df3-9724-950cd6ec44eb'),\n",
       " Row(event_time='2019-11-01 00:00:19 UTC', event_type='view', product_id='26100002', category_id='2053013553887052089', category_code=None, brand='sulu', price='51.48', user_id='520956879', user_session='88e782d0-cb8f-4b25-b09c-6dd9bce06832'),\n",
       " Row(event_time='2019-11-01 00:00:19 UTC', event_type='view', product_id='22700067', category_id='2053013556168753601', category_code=None, brand='force', price='83.91', user_id='548645138', user_session='4e61a6a1-0876-4acb-a913-a25c690982e1'),\n",
       " Row(event_time='2019-11-01 00:00:19 UTC', event_type='view', product_id='24400437', category_id='2053013563215184719', category_code=None, brand='kirkland', price='28.19', user_id='515132797', user_session='714ead66-9c6b-4098-8d57-f855384a93a7'),\n",
       " Row(event_time='2019-11-01 00:00:20 UTC', event_type='view', product_id='1307095', category_id='2053013558920217191', category_code='computers.notebook', brand='lenovo', price='385.85', user_id='520772685', user_session='816a59f3-f5ae-4ccd-9b23-82aa8c23d33c'),\n",
       " Row(event_time='2019-11-01 00:00:22 UTC', event_type='view', product_id='31000152', category_id='2055156924315337497', category_code=None, brand='humminbird', price='733.61', user_id='565841773', user_session='5b102238-1d7c-455a-91b9-11a8299b3d7d'),\n",
       " Row(event_time='2019-11-01 00:00:22 UTC', event_type='view', product_id='37900026', category_id='2152167773222993940', category_code=None, brand='merelani', price='105.54', user_id='565098257', user_session='dfbfd3f3-9347-45a1-b572-ec3897d327dc'),\n",
       " Row(event_time='2019-11-01 00:00:23 UTC', event_type='view', product_id='1004856', category_id='2053013555631882655', category_code='electronics.smartphone', brand='samsung', price='128.42', user_id='436701163', user_session='50de79b1-b0ec-42c0-bbe0-8b5d2dc33e1e'),\n",
       " Row(event_time='2019-11-01 00:00:23 UTC', event_type='view', product_id='12720378', category_id='2053013553559896355', category_code=None, brand='roadx', price='50.19', user_id='550193582', user_session='6b4de9ac-76e5-e412-eb8e-b42dea7cfb24'),\n",
       " Row(event_time='2019-11-01 00:00:23 UTC', event_type='view', product_id='16000004', category_id='2053013558223962683', category_code=None, brand='rondell', price='43.73', user_id='550043341', user_session='200ebe4a-40e6-4c3f-8ba7-e14bf2bbc1a6'),\n",
       " Row(event_time='2019-11-01 00:00:23 UTC', event_type='view', product_id='12300928', category_id='2053013556311359947', category_code='construction.tools.drill', brand='dewalt', price='98.51', user_id='517081324', user_session='bd1d99b3-0c06-4e1c-a6fe-8c797ff574dc'),\n",
       " Row(event_time='2019-11-01 00:00:23 UTC', event_type='view', product_id='1004877', category_id='2053013555631882655', category_code='electronics.smartphone', brand='xiaomi', price='84.65', user_id='516826105', user_session='55d5be8e-8a4f-4691-b192-93c9193e3b1d'),\n",
       " Row(event_time='2019-11-01 00:00:24 UTC', event_type='view', product_id='10301494', category_id='2053013553115300101', category_code=None, brand='welly', price='5.77', user_id='521368162', user_session='375da15e-023b-47a5-88f9-828c28637359'),\n",
       " Row(event_time='2019-11-01 00:00:24 UTC', event_type='view', product_id='50600046', category_id='2134905044833666047', category_code='auto.accessories.compressor', brand='denzel', price='157.28', user_id='513998949', user_session='a7b196d9-afe5-4dc8-9648-d578fef55abf'),\n",
       " Row(event_time='2019-11-01 00:00:25 UTC', event_type='view', product_id='12719892', category_id='2053013553559896355', category_code=None, brand='nokian', price='252.77', user_id='512376444', user_session='f7e8ffaa-5103-47f3-90ab-c30f313770c0'),\n",
       " Row(event_time='2019-11-01 00:00:26 UTC', event_type='view', product_id='22700324', category_id='2053013556168753601', category_code=None, brand='bosch', price='20.77', user_id='564599988', user_session='d67efe84-f47e-44dd-8abf-a9122c706acd'),\n",
       " Row(event_time='2019-11-01 00:00:26 UTC', event_type='view', product_id='16700690', category_id='2053013559901684381', category_code='furniture.kitchen.chair', brand='mamadoma', price='34.75', user_id='566255262', user_session='173d7b72-1db7-4638-8207-be8148bf3c9f'),\n",
       " Row(event_time='2019-11-01 00:00:26 UTC', event_type='view', product_id='6500912', category_id='2053013554155487563', category_code='computers.components.motherboard', brand='asus', price='287.83', user_id='512370912', user_session='daf0bf99-adf1-4877-8308-ae4557b6f01b'),\n",
       " Row(event_time='2019-11-01 00:00:26 UTC', event_type='view', product_id='13102283', category_id='2053013553526341921', category_code=None, brand='arrivo', price='91.12', user_id='521324982', user_session='627c9b29-49fa-4676-8c1d-15ace3e75ed2'),\n",
       " Row(event_time='2019-11-01 00:00:27 UTC', event_type='view', product_id='1600557', category_id='2053013553056579841', category_code='computers.peripherals.printer', brand='canon', price='151.14', user_id='552249856', user_session='ebfe62dd-197a-4696-9344-75b4d15f43a0'),\n",
       " Row(event_time='2019-11-01 00:00:27 UTC', event_type='view', product_id='17300072', category_id='2053013553853497655', category_code=None, brand='trussardi', price='61.75', user_id='563769246', user_session='95ab5d5d-be19-4118-84e9-534d65b7a687'),\n",
       " Row(event_time='2019-11-01 00:00:27 UTC', event_type='view', product_id='1004237', category_id='2053013555631882655', category_code='electronics.smartphone', brand='apple', price='1091.33', user_id='565404816', user_session='d9cf0ac4-c3ec-4e1f-83aa-326b1e7b1581'),\n",
       " Row(event_time='2019-11-01 00:00:27 UTC', event_type='view', product_id='15200567', category_id='2053013553484398879', category_code=None, brand='t-rex', price='46.16', user_id='518758107', user_session='f617be3c-8447-4aaf-b9b7-2e23a21a8b58'),\n",
       " Row(event_time='2019-11-01 00:00:27 UTC', event_type='view', product_id='12708937', category_id='2053013553559896355', category_code=None, brand='michelin', price='72.72', user_id='513726400', user_session='db621522-4ce9-457c-b945-976775ca5389'),\n",
       " Row(event_time='2019-11-01 00:00:28 UTC', event_type='view', product_id='4804295', category_id='2053013554658804075', category_code='electronics.audio.headphone', brand='xiaomi', price='22.80', user_id='543653226', user_session='ab310b47-1eb2-45f8-8e5b-21ab2010925a'),\n",
       " Row(event_time='2019-11-01 00:00:28 UTC', event_type='view', product_id='17301495', category_id='2053013553853497655', category_code=None, brand='chanel', price='171.17', user_id='561587266', user_session='755422e7-9040-477b-9bd2-6a6e8fd97387'),\n",
       " Row(event_time='2019-11-01 00:00:28 UTC', event_type='view', product_id='1004990', category_id='2053013555631882655', category_code='electronics.smartphone', brand='oppo', price='257.38', user_id='514171705', user_session='168955ad-db0f-4f0f-b71b-5dd8cfc9e113'),\n",
       " Row(event_time='2019-11-01 00:00:28 UTC', event_type='view', product_id='17800132', category_id='2053013559868129947', category_code='computers.desktop', brand=None, price='51.46', user_id='529388957', user_session='f6835635-57e4-45f7-97e7-383abc59c152'),\n",
       " Row(event_time='2019-11-01 00:00:29 UTC', event_type='view', product_id='5701331', category_id='2053013553970938175', category_code='auto.accessories.player', brand='ams', price='221.37', user_id='566279704', user_session='efd58a11-6fbf-4aa2-86c1-aad172f32fac'),\n",
       " Row(event_time='2019-11-01 00:00:29 UTC', event_type='view', product_id='1307338', category_id='2053013558920217191', category_code='computers.notebook', brand='asus', price='849.42', user_id='530857208', user_session='c69f9c63-7098-426c-97d9-8cb94a0a1083'),\n",
       " Row(event_time='2019-11-01 00:00:30 UTC', event_type='view', product_id='1004767', category_id='2053013555631882655', category_code='electronics.smartphone', brand='samsung', price='242.63', user_id='559213679', user_session='20a1a879-3cff-4d9a-9fc1-09bb9624e0d6'),\n",
       " Row(event_time='2019-11-01 00:00:30 UTC', event_type='view', product_id='38900011', category_id='2085718636156158307', category_code=None, brand=None, price='40.93', user_id='515764001', user_session='57d79510-85e9-4dcd-b0c6-96d9befb3cd9'),\n",
       " Row(event_time='2019-11-01 00:00:31 UTC', event_type='view', product_id='32900064', category_id='2055156924407612189', category_code='accessories.bag', brand='fisherman', price='48.43', user_id='565841773', user_session='5b102238-1d7c-455a-91b9-11a8299b3d7d'),\n",
       " Row(event_time='2019-11-01 00:00:35 UTC', event_type='view', product_id='2701305', category_id='2053013563911439225', category_code='appliances.kitchen.refrigerators', brand='samsung', price='499.94', user_id='524356542', user_session='153f9818-4d32-4e8b-ba9f-f355094e8ae4'),\n",
       " Row(event_time='2019-11-01 00:00:35 UTC', event_type='view', product_id='44300009', category_id='2100825583029060150', category_code='apparel.jeans', brand=None, price='50.45', user_id='545220871', user_session='f278cca0-e0f6-49a3-819a-d961998282d5'),\n",
       " Row(event_time='2019-11-01 00:00:35 UTC', event_type='view', product_id='4804151', category_id='2053013554658804075', category_code='electronics.audio.headphone', brand='acme', price='51.22', user_id='565731881', user_session='5d8cb7aa-ca44-4705-809d-53c97b497e16'),\n",
       " Row(event_time='2019-11-01 00:00:36 UTC', event_type='view', product_id='29900072', category_id='2059484601444729123', category_code=None, brand='peda', price='900.92', user_id='540807712', user_session='49b11fc0-1c43-4987-8e5b-3f470d0a5276'),\n",
       " Row(event_time='2019-11-01 00:00:36 UTC', event_type='view', product_id='1004184', category_id='2053013555631882655', category_code='electronics.smartphone', brand='xiaomi', price='463.15', user_id='520088904', user_session='4d3b30da-a5e4-49df-b1a8-ba5943f1dd33'),\n",
       " Row(event_time='2019-11-01 00:00:36 UTC', event_type='view', product_id='1003316', category_id='2053013555631882655', category_code='electronics.smartphone', brand='apple', price='928.38', user_id='544501248', user_session='e330d051-37ad-4dc3-b1ee-ff16a28b7998'),\n",
       " Row(event_time='2019-11-01 00:00:37 UTC', event_type='view', product_id='21408240', category_id='2053013561579406073', category_code='electronics.clocks', brand='tissot', price='861.28', user_id='513118352', user_session='4c14bf2a-2820-4504-929d-046356a5a204'),\n",
       " Row(event_time='2019-11-01 00:00:38 UTC', event_type='view', product_id='2701419', category_id='2053013563911439225', category_code='appliances.kitchen.refrigerators', brand=None, price='166.23', user_id='559215873', user_session='26ca9bd8-21bd-47b9-b227-b6a083bde2a7'),\n",
       " Row(event_time='2019-11-01 00:00:39 UTC', event_type='view', product_id='10800076', category_id='2053013554994348409', category_code=None, brand='redmond', price='64.33', user_id='527322328', user_session='5054190a-46cb-4211-a8f1-16fc1a060ed8')]"
      ]
     },
     "execution_count": 13,
     "metadata": {},
     "output_type": "execute_result"
    }
   ],
   "source": [
    "df.head(100)"
   ]
  },
  {
   "cell_type": "code",
   "execution_count": 14,
   "id": "82273af4-f471-4e2c-988a-a4e5d3b4d427",
   "metadata": {},
   "outputs": [
    {
     "name": "stdout",
     "output_type": "stream",
     "text": [
      "+--------------------+----------+----------+-------------------+--------------------+--------+------+---------+--------------------+\n",
      "|          event_time|event_type|product_id|        category_id|       category_code|   brand| price|  user_id|        user_session|\n",
      "+--------------------+----------+----------+-------------------+--------------------+--------+------+---------+--------------------+\n",
      "|2019-11-01 00:00:...|      view|   1003461|2053013555631882655|electronics.smart...|  xiaomi|489.07|520088904|4d3b30da-a5e4-49d...|\n",
      "|2019-11-01 00:00:...|      view|   5000088|2053013566100866035|appliances.sewing...|  janome|293.65|530496790|8e5f4f83-366c-4f7...|\n",
      "|2019-11-01 00:00:...|      view|  17302664|2053013553853497655|                null|   creed| 28.31|561587266|755422e7-9040-477...|\n",
      "|2019-11-01 00:00:...|      view|   3601530|2053013563810775923|appliances.kitche...|      lg|712.87|518085591|3bfb58cd-7892-48c...|\n",
      "|2019-11-01 00:00:...|      view|   1004775|2053013555631882655|electronics.smart...|  xiaomi|183.27|558856683|313628f1-68b8-460...|\n",
      "|2019-11-01 00:00:...|      view|   1306894|2053013558920217191|  computers.notebook|      hp|360.09|520772685|816a59f3-f5ae-4cc...|\n",
      "|2019-11-01 00:00:...|      view|   1306421|2053013558920217191|  computers.notebook|      hp|514.56|514028527|df8184cc-3694-454...|\n",
      "|2019-11-01 00:00:...|      view|  15900065|2053013558190408249|                null| rondell| 30.86|518574284|5e6ef132-4d7c-473...|\n",
      "|2019-11-01 00:00:...|      view|  12708937|2053013553559896355|                null|michelin| 72.72|532364121|0a899268-31eb-46d...|\n",
      "|2019-11-01 00:00:...|      view|   1004258|2053013555631882655|electronics.smart...|   apple|732.07|532647354|d2d3d2c6-631d-489...|\n",
      "|2019-11-01 00:00:...|      view|  17200570|2053013559792632471|furniture.living_...|    null|437.33|518780843|aa806835-b14c-45a...|\n",
      "|2019-11-01 00:00:...|      view|   2701517|2053013563911439225|appliances.kitche...|    null|155.11|518427361|c89b0d96-247f-404...|\n",
      "|2019-11-01 00:00:...|      view|  16700260|2053013559901684381|furniture.kitchen...|    null| 31.64|566255262|173d7b72-1db7-463...|\n",
      "|2019-11-01 00:00:...|      view|  34600011|2060981320581906480|                null|    null| 20.54|512416379|4dfe2c67-e537-4dc...|\n",
      "|2019-11-01 00:00:...|      view|   4600658|2053013563944993659|appliances.kitche...| samsung|411.83|526595547|aab33a9a-29c3-4d5...|\n",
      "|2019-11-01 00:00:...|      view|  24900193|2053013562183385881|                null|    null|  1.09|512651494|f603c815-f51a-46f...|\n",
      "|2019-11-01 00:00:...|      view|  27400066|2053013563391345499|                null|    null|  8.55|551061950|3f6112f1-5695-4e8...|\n",
      "|2019-11-01 00:00:...|      view|   5100503|2053013553375346967|                null|  xiaomi| 22.68|520037415|f54fa96a-f3f2-43a...|\n",
      "|2019-11-01 00:00:...|      view|   1004566|2053013555631882655|electronics.smart...|  huawei|164.84|566265908|52c2c76c-b79e-479...|\n",
      "|2019-11-01 00:00:...|      view|   1307115|2053013558920217191|  computers.notebook|      hp|411.59|514028527|df8184cc-3694-454...|\n",
      "+--------------------+----------+----------+-------------------+--------------------+--------+------+---------+--------------------+\n",
      "only showing top 20 rows\n",
      "\n"
     ]
    }
   ],
   "source": [
    "df.show()"
   ]
  },
  {
   "cell_type": "code",
   "execution_count": 15,
   "id": "97f0229a-c192-43f0-8dd6-af086ec1677a",
   "metadata": {},
   "outputs": [
    {
     "name": "stdout",
     "output_type": "stream",
     "text": [
      "root\n",
      " |-- event_time: string (nullable = true)\n",
      " |-- event_type: string (nullable = true)\n",
      " |-- product_id: string (nullable = true)\n",
      " |-- category_id: string (nullable = true)\n",
      " |-- category_code: string (nullable = true)\n",
      " |-- brand: string (nullable = true)\n",
      " |-- price: string (nullable = true)\n",
      " |-- user_id: string (nullable = true)\n",
      " |-- user_session: string (nullable = true)\n",
      "\n"
     ]
    }
   ],
   "source": [
    "# df의 스키마 정보 확인하기\n",
    "df.printSchema()"
   ]
  },
  {
   "cell_type": "code",
   "execution_count": 16,
   "id": "261e7179-1356-471a-a483-bb806fd02540",
   "metadata": {
    "scrolled": true
   },
   "outputs": [
    {
     "name": "stderr",
     "output_type": "stream",
     "text": [
      "[Stage 4:====================================================>    (12 + 1) / 13]\r"
     ]
    },
    {
     "name": "stdout",
     "output_type": "stream",
     "text": [
      "+----------+--------+\n",
      "|event_type|   count|\n",
      "+----------+--------+\n",
      "|  purchase|  180364|\n",
      "|      view|11915584|\n",
      "|      cart|  173718|\n",
      "+----------+--------+\n",
      "\n"
     ]
    },
    {
     "name": "stderr",
     "output_type": "stream",
     "text": [
      "                                                                                \r"
     ]
    }
   ],
   "source": [
    "df.groupBy(\"event_type\").count().show()"
   ]
  },
  {
   "cell_type": "code",
   "execution_count": 11,
   "id": "e6147b85-5b45-4513-9f3e-ad682a8fa458",
   "metadata": {},
   "outputs": [
    {
     "data": {
      "text/plain": [
       "67501979"
      ]
     },
     "execution_count": 11,
     "metadata": {},
     "output_type": "execute_result"
    }
   ],
   "source": [
    "df.count()"
   ]
  },
  {
   "cell_type": "code",
   "execution_count": 12,
   "id": "c1d66d99-fac3-44a8-81f5-00d746e878e8",
   "metadata": {
    "scrolled": true
   },
   "outputs": [
    {
     "name": "stdout",
     "output_type": "stream",
     "text": [
      "+---------+-----+\n",
      "|  user_id|count|\n",
      "+---------+-----+\n",
      "|512416379|  166|\n",
      "|518045858|   18|\n",
      "|514173771|  239|\n",
      "|540806126|   48|\n",
      "|549697474|   96|\n",
      "|551128812|    9|\n",
      "|566282003|    1|\n",
      "|557839915|    8|\n",
      "|555708149|  243|\n",
      "|534474818|   18|\n",
      "|542474856|   92|\n",
      "|513398520|    9|\n",
      "|553452650|   23|\n",
      "|519310057|   14|\n",
      "|515806073|    3|\n",
      "|562269684|    4|\n",
      "|516879649|   75|\n",
      "|513044730|  228|\n",
      "|551743559|   49|\n",
      "|544957821|    7|\n",
      "+---------+-----+\n",
      "only showing top 20 rows\n",
      "\n"
     ]
    }
   ],
   "source": [
    "df.groupBy(\"user_id\").count().show()"
   ]
  },
  {
   "cell_type": "code",
   "execution_count": 15,
   "id": "b9ae1e09-c29c-40e8-9f8e-10e007ecd73c",
   "metadata": {},
   "outputs": [
    {
     "name": "stdout",
     "output_type": "stream",
     "text": [
      "+---------+--------------------+-----+\n",
      "|  user_id|        user_session|count|\n",
      "+---------+--------------------+-----+\n",
      "|520772685|816a59f3-f5ae-4cc...|   17|\n",
      "|513200477|742aba02-727b-4d1...|    8|\n",
      "|553802615|e09684bb-0c95-4f6...|    2|\n",
      "|542346595|75c35801-ce60-44b...|    1|\n",
      "|558726315|e43aa696-aefc-406...|    1|\n",
      "|563227152|1e10d7be-b609-47a...|    1|\n",
      "|565802271|5d1646b8-f999-40e...|    4|\n",
      "|566282650|1d5e038a-3b62-439...|    1|\n",
      "|542640486|22d25da8-616f-46d...|    9|\n",
      "|534313202|94b37d8e-fc79-4ad...|    4|\n",
      "|555659079|2ad84784-d578-4c0...|    1|\n",
      "|514285021|6b2b63c5-9750-4c3...|    2|\n",
      "|545948530|5169cc52-096b-45c...|    4|\n",
      "|564557545|063368b3-624c-4f6...|    1|\n",
      "|536344811|fbcbba3b-0cca-452...|    1|\n",
      "|565609319|e55f5f4b-ecf1-42f...|    1|\n",
      "|566286011|a92b0898-3264-4c8...|    1|\n",
      "|538321055|7eed4ca4-7d16-4a7...|    1|\n",
      "|565801830|a92bf09d-522c-4e8...|    1|\n",
      "|559084696|08a42c83-853e-4ad...|   10|\n",
      "+---------+--------------------+-----+\n",
      "only showing top 20 rows\n",
      "\n"
     ]
    }
   ],
   "source": [
    "df.groupBy(\"user_id\",\"user_session\").count().show()"
   ]
  },
  {
   "cell_type": "code",
   "execution_count": 37,
   "id": "6bb817ce-0d41-4fb0-a26b-55fde9c0bb88",
   "metadata": {},
   "outputs": [
    {
     "name": "stderr",
     "output_type": "stream",
     "text": [
      "                                                                                \r"
     ]
    },
    {
     "data": {
      "text/plain": [
       "3696117"
      ]
     },
     "execution_count": 37,
     "metadata": {},
     "output_type": "execute_result"
    }
   ],
   "source": [
    "df.select(\"user_id\").distinct().count()"
   ]
  },
  {
   "cell_type": "code",
   "execution_count": 17,
   "id": "c1d9e332-9ab1-459c-bd95-a8e2645afaf8",
   "metadata": {},
   "outputs": [],
   "source": [
    "df.createOrReplaceTempView(\"sh\")"
   ]
  },
  {
   "cell_type": "code",
   "execution_count": 18,
   "id": "4e7f7618-80e9-4727-9d03-c957fc65ca50",
   "metadata": {},
   "outputs": [],
   "source": [
    "df2 = spark.sql(\"SELECT * FROM sh\")"
   ]
  },
  {
   "cell_type": "code",
   "execution_count": 19,
   "id": "b6581ea4-27fa-4c6e-9d27-00fb5c5f6c8d",
   "metadata": {},
   "outputs": [],
   "source": [
    "# SQL 쿼리를 사용하여 데이터 조회\n",
    "query = \"SELECT * FROM sh where user_id='526160987'\"\n",
    "result = spark.sql(query)"
   ]
  },
  {
   "cell_type": "code",
   "execution_count": 19,
   "id": "fa24c1c6-5016-49c5-9ce0-130bc6fab57c",
   "metadata": {},
   "outputs": [
    {
     "name": "stdout",
     "output_type": "stream",
     "text": [
      "+--------------------+----------+----------+-------------------+--------------------+-------+-------+---------+--------------------+\n",
      "|          event_time|event_type|product_id|        category_id|       category_code|  brand|  price|  user_id|        user_session|\n",
      "+--------------------+----------+----------+-------------------+--------------------+-------+-------+---------+--------------------+\n",
      "|2019-11-02 01:14:...|      view|   9800515|2053013554071601477|                null|   null|  98.84|526160987|bf47ad7d-e308-462...|\n",
      "|2019-11-02 01:14:...|      view|   9800610|2053013554071601477|                null|   null| 128.68|526160987|bf47ad7d-e308-462...|\n",
      "|2019-11-02 01:15:...|      view|   9800613|2053013554071601477|                null|   null| 167.29|526160987|bf47ad7d-e308-462...|\n",
      "|2019-11-02 13:40:...|      view|   1307466|2053013558920217191|  computers.notebook|    msi|1549.07|526160987|3f3951e9-a13d-448...|\n",
      "|2019-11-02 13:41:...|      view|   1307466|2053013558920217191|  computers.notebook|    msi|1549.07|526160987|3f3951e9-a13d-448...|\n",
      "|2019-11-03 01:27:...|      view|   1701392|2053013553031414015|computers.periphe...|   acer| 134.37|526160987|c1f86de3-c613-4e8...|\n",
      "|2019-11-03 01:28:...|      view|   1701392|2053013553031414015|computers.periphe...|   acer| 134.37|526160987|c1f86de3-c613-4e8...|\n",
      "|2019-11-03 01:28:...|      view|   1700954|2053013553031414015|computers.periphe...|samsung| 223.66|526160987|c1f86de3-c613-4e8...|\n",
      "|2019-11-03 01:28:...|      view|   1700954|2053013553031414015|computers.periphe...|samsung| 223.66|526160987|c1f86de3-c613-4e8...|\n",
      "|2019-11-03 01:28:...|      view|   1701392|2053013553031414015|computers.periphe...|   acer| 134.37|526160987|c1f86de3-c613-4e8...|\n",
      "|2019-11-03 01:29:...|      view|   1701392|2053013553031414015|computers.periphe...|   acer| 134.37|526160987|c1f86de3-c613-4e8...|\n",
      "|2019-11-03 01:29:...|      view|   1700954|2053013553031414015|computers.periphe...|samsung| 223.66|526160987|c1f86de3-c613-4e8...|\n",
      "|2019-11-03 01:29:...|      view|   1700954|2053013553031414015|computers.periphe...|samsung| 223.66|526160987|c1f86de3-c613-4e8...|\n",
      "|2019-11-03 01:30:...|      view|   1701111|2053013553031414015|computers.periphe...|   acer| 514.79|526160987|c1f86de3-c613-4e8...|\n",
      "|2019-11-03 01:30:...|      view|   1701111|2053013553031414015|computers.periphe...|   acer| 514.79|526160987|c1f86de3-c613-4e8...|\n",
      "|2019-11-03 01:30:...|      view|   1701040|2053013553031414015|computers.periphe...|     hp| 154.19|526160987|c1f86de3-c613-4e8...|\n",
      "|2019-11-03 01:30:...|      view|   1701040|2053013553031414015|computers.periphe...|     hp| 154.19|526160987|c1f86de3-c613-4e8...|\n",
      "|2019-11-03 01:31:...|      view|   1701295|2053013553031414015|computers.periphe...|gamemax| 537.98|526160987|c1f86de3-c613-4e8...|\n",
      "|2019-11-03 01:31:...|      view|   1700579|2053013553031414015|computers.periphe...|samsung| 154.42|526160987|c1f86de3-c613-4e8...|\n",
      "|2019-11-03 01:31:...|      view|   1700579|2053013553031414015|computers.periphe...|samsung| 154.42|526160987|c1f86de3-c613-4e8...|\n",
      "+--------------------+----------+----------+-------------------+--------------------+-------+-------+---------+--------------------+\n",
      "only showing top 20 rows\n",
      "\n"
     ]
    }
   ],
   "source": [
    "result.show()"
   ]
  },
  {
   "cell_type": "code",
   "execution_count": 22,
   "id": "52098fd4-629b-4409-8fa3-55bbcc49e7fd",
   "metadata": {},
   "outputs": [
    {
     "name": "stderr",
     "output_type": "stream",
     "text": [
      "[Stage 30:=======================================================>(67 + 1) / 68]\r"
     ]
    },
    {
     "name": "stdout",
     "output_type": "stream",
     "text": [
      "+--------------------+-------+\n",
      "|       category_code|  count|\n",
      "+--------------------+-------+\n",
      "|    computers.ebooks|  48065|\n",
      "|apparel.shoes.sli...|   5613|\n",
      "|computers.periphe...|  88325|\n",
      "|electronics.video...|  22940|\n",
      "|appliances.kitche...|  18906|\n",
      "|     sport.snowboard|  17936|\n",
      "|electronics.camer...|  65828|\n",
      "|       apparel.shirt|  51095|\n",
      "|electronics.audio...|1816877|\n",
      "|appliances.kitche...| 160932|\n",
      "|appliances.kitche...|  75128|\n",
      "|  electronics.tablet| 492497|\n",
      "|appliances.kitche...| 186212|\n",
      "|auto.accessories....|  49902|\n",
      "|apparel.shoes.moc...|  12525|\n",
      "|       apparel.jeans|  52966|\n",
      "|computers.periphe...| 211342|\n",
      "|furniture.living_...| 551642|\n",
      "| stationery.cartrige|  12778|\n",
      "|furniture.kitchen...| 188721|\n",
      "+--------------------+-------+\n",
      "only showing top 20 rows\n",
      "\n"
     ]
    },
    {
     "name": "stderr",
     "output_type": "stream",
     "text": [
      "                                                                                \r"
     ]
    }
   ],
   "source": [
    "df.groupBy(\"category_code\").count().show()"
   ]
  },
  {
   "cell_type": "code",
   "execution_count": 20,
   "id": "2e799882-d3a9-47af-8b72-ea975d7b87a1",
   "metadata": {},
   "outputs": [
    {
     "name": "stderr",
     "output_type": "stream",
     "text": [
      "[Stage 24:=======================================================>(67 + 1) / 68]\r"
     ]
    },
    {
     "name": "stdout",
     "output_type": "stream",
     "text": [
      "+--------------------------------------+--------+\n",
      "|category_code                         |count   |\n",
      "+--------------------------------------+--------+\n",
      "|apparel.shoes.slipons                 |5613    |\n",
      "|computers.ebooks                      |48065   |\n",
      "|computers.peripherals.keyboard        |88325   |\n",
      "|appliances.kitchen.coffee_grinder     |18906   |\n",
      "|electronics.video.projector           |22940   |\n",
      "|sport.snowboard                       |17936   |\n",
      "|electronics.camera.video              |65828   |\n",
      "|apparel.shirt                         |51095   |\n",
      "|electronics.audio.headphone           |1816877 |\n",
      "|appliances.kitchen.dishwasher         |160932  |\n",
      "|appliances.kitchen.juicer             |75128   |\n",
      "|electronics.tablet                    |492497  |\n",
      "|appliances.kitchen.hob                |186212  |\n",
      "|auto.accessories.radar                |49902   |\n",
      "|apparel.shoes.moccasins               |12525   |\n",
      "|apparel.jeans                         |52966   |\n",
      "|computers.peripherals.monitor         |211342  |\n",
      "|furniture.living_room.cabinet         |551642  |\n",
      "|stationery.cartrige                   |12778   |\n",
      "|furniture.kitchen.chair               |188721  |\n",
      "|construction.tools.drill              |397860  |\n",
      "|furniture.bedroom.pillow              |29234   |\n",
      "|electronics.audio.microphone          |46749   |\n",
      "|auto.accessories.compressor           |89041   |\n",
      "|appliances.kitchen.blender            |335190  |\n",
      "|electronics.telephone                 |346800  |\n",
      "|medicine.tools.tonometer              |22382   |\n",
      "|null                                  |21898171|\n",
      "|appliances.kitchen.hood               |199057  |\n",
      "|construction.tools.welding            |148510  |\n",
      "|construction.tools.painting           |20349   |\n",
      "|furniture.bathroom.bath               |23163   |\n",
      "|apparel.dress                         |96552   |\n",
      "|accessories.bag                       |314655  |\n",
      "|sport.bicycle                         |108800  |\n",
      "|furniture.kitchen.table               |198092  |\n",
      "|kids.skates                           |72522   |\n",
      "|electronics.audio.subwoofer           |319138  |\n",
      "|furniture.bedroom.bed                 |532673  |\n",
      "|appliances.personal.hair_cutter       |90115   |\n",
      "|appliances.kitchen.oven               |379338  |\n",
      "|apparel.underwear                     |47712   |\n",
      "|auto.accessories.alarm                |298615  |\n",
      "|apparel.scarf                         |3618    |\n",
      "|appliances.environment.air_conditioner|101532  |\n",
      "|electronics.audio.acoustic            |142022  |\n",
      "|sport.ski                             |16723   |\n",
      "|country_yard.lawn_mower               |6391    |\n",
      "|appliances.personal.scales            |94996   |\n",
      "|appliances.kitchen.microwave          |306270  |\n",
      "|computers.peripherals.mouse           |115790  |\n",
      "|sport.trainer                         |96794   |\n",
      "|electronics.clocks                    |2086966 |\n",
      "|furniture.bathroom.toilet             |29237   |\n",
      "|appliances.kitchen.grill              |121409  |\n",
      "|apparel.tshirt                        |21556   |\n",
      "|appliances.kitchen.meat_grinder       |256351  |\n",
      "|electronics.camera.photo              |19884   |\n",
      "|computers.components.cpu              |84293   |\n",
      "|electronics.smartphone                |16375000|\n",
      "|construction.tools.generator          |204866  |\n",
      "|construction.tools.saw                |194878  |\n",
      "|apparel.trousers                      |25309   |\n",
      "|auto.accessories.videoregister        |279359  |\n",
      "|kids.fmcg.diapers                     |32578   |\n",
      "|kids.carriage                         |347476  |\n",
      "|auto.accessories.player               |473098  |\n",
      "|auto.accessories.winch                |5952    |\n",
      "|apparel.shoes.keds                    |485802  |\n",
      "|appliances.kitchen.kettle             |279916  |\n",
      "|computers.components.memory           |80095   |\n",
      "|computers.components.power_supply     |35514   |\n",
      "|computers.notebook                    |2180554 |\n",
      "|computers.components.hdd              |114907  |\n",
      "|kids.swing                            |59468   |\n",
      "|furniture.bedroom.blanket             |29140   |\n",
      "|electronics.video.tv                  |2208046 |\n",
      "|construction.components.faucet        |47629   |\n",
      "|computers.components.cooler           |73178   |\n",
      "|accessories.wallet                    |70394   |\n",
      "|electronics.audio.music_tools.piano   |63339   |\n",
      "|appliances.environment.fan            |3429    |\n",
      "|appliances.kitchen.mixer              |147865  |\n",
      "|auto.accessories.parktronic           |14681   |\n",
      "|appliances.environment.air_heater     |285987  |\n",
      "|apparel.belt                          |4698    |\n",
      "|computers.peripherals.printer         |221728  |\n",
      "|appliances.environment.water_heater   |209371  |\n",
      "|apparel.shoes                         |1886890 |\n",
      "|computers.components.videocards       |153514  |\n",
      "|apparel.shorts                        |652     |\n",
      "|auto.accessories.anti_freeze          |3511    |\n",
      "|computers.peripherals.camera          |7291    |\n",
      "|furniture.living_room.sofa            |425511  |\n",
      "|appliances.environment.vacuum         |1528058 |\n",
      "|appliances.kitchen.steam_cooker       |19641   |\n",
      "|furniture.living_room.chair           |88328   |\n",
      "|kids.dolls                            |88366   |\n",
      "|apparel.sock                          |3575    |\n",
      "|apparel.shoes.espadrilles             |1412    |\n",
      "|construction.tools.light              |30784   |\n",
      "|kids.toys                             |205974  |\n",
      "|computers.desktop                     |690502  |\n",
      "|country_yard.cultivator               |9737    |\n",
      "|appliances.iron                       |297532  |\n",
      "|appliances.kitchen.refrigerators      |1427162 |\n",
      "|country_yard.furniture.hammok         |1589    |\n",
      "|accessories.umbrella                  |4989    |\n",
      "|appliances.kitchen.coffee_machine     |131557  |\n",
      "|appliances.ironing_board              |63821   |\n",
      "|computers.components.motherboard      |76260   |\n",
      "|apparel.costume                       |245291  |\n",
      "|apparel.shoes.sandals                 |15343   |\n",
      "|apparel.jumper                        |31675   |\n",
      "|apparel.shoes.ballet_shoes            |4379    |\n",
      "|sport.tennis                          |7741    |\n",
      "|construction.tools.pump               |43569   |\n",
      "|apparel.shoes.step_ins                |1776    |\n",
      "|furniture.universal.light             |16088   |\n",
      "|construction.tools.soldering          |3526    |\n",
      "|appliances.kitchen.washer             |1403866 |\n",
      "|appliances.sewing_machine             |280603  |\n",
      "|appliances.kitchen.toster             |41192   |\n",
      "|appliances.personal.massager          |44281   |\n",
      "|apparel.skirt                         |8837    |\n",
      "|apparel.glove                         |3824    |\n",
      "|construction.tools.screw              |184     |\n",
      "|country_yard.furniture.bench          |2       |\n",
      "|apparel.jacket                        |1       |\n",
      "|appliances.kitchen.fryer              |108     |\n",
      "+--------------------------------------+--------+\n",
      "\n"
     ]
    },
    {
     "name": "stderr",
     "output_type": "stream",
     "text": [
      "                                                                                \r"
     ]
    }
   ],
   "source": [
    "df.groupBy(\"category_code\").count().show(n=1000, truncate=False)"
   ]
  },
  {
   "cell_type": "code",
   "execution_count": 20,
   "id": "42925428-a173-4493-a908-6018ddfdda5d",
   "metadata": {},
   "outputs": [
    {
     "name": "stderr",
     "output_type": "stream",
     "text": [
      "[Stage 7:====================================================>    (12 + 1) / 13]\r"
     ]
    },
    {
     "name": "stdout",
     "output_type": "stream",
     "text": [
      "+--------------------------------------+------------------+\n",
      "|category_code                         |avg_price         |\n",
      "+--------------------------------------+------------------+\n",
      "|appliances.kitchen.refrigerators      |765.5886124625746 |\n",
      "|electronics.video.tv                  |584.8201462953788 |\n",
      "|appliances.environment.air_conditioner|467.9606510416667 |\n",
      "|appliances.kitchen.oven               |457.54720202485066|\n",
      "|appliances.kitchen.dishwasher         |428.14698113207584|\n",
      "|appliances.kitchen.washer             |417.6817589495018 |\n",
      "|appliances.kitchen.hob                |338.4825939393936 |\n",
      "|electronics.smartphone                |336.5630980976689 |\n",
      "|electronics.audio.acoustic            |330.657232597623  |\n",
      "|computers.peripherals.monitor         |263.2301986239132 |\n",
      "|electronics.clocks                    |262.9001914557759 |\n",
      "|electronics.tablet                    |245.44677927178236|\n",
      "|appliances.kitchen.hood               |185.11667877906976|\n",
      "|computers.components.hdd              |182.417505643341  |\n",
      "|computers.peripherals.printer         |132.34048995983937|\n",
      "|appliances.kitchen.microwave          |130.25327700663888|\n",
      "|appliances.environment.vacuum         |118.16028331111885|\n",
      "|electronics.audio.headphone           |84.22884537266012 |\n",
      "|null                                  |54.76787369132039 |\n",
      "|computers.components.memory           |43.636923076923075|\n",
      "|stationery.cartrige                   |32.405            |\n",
      "|computers.peripherals.camera          |30.860000000000007|\n",
      "+--------------------------------------+------------------+\n",
      "\n"
     ]
    },
    {
     "name": "stderr",
     "output_type": "stream",
     "text": [
      "                                                                                \r"
     ]
    }
   ],
   "source": [
    "# '삼성' 브랜드 중 카테고리 별 평균 가격을 내림차순 정렬로 나타낸 쿼리\n",
    "query = \"SELECT category_code, AVG(price) AS avg_price FROM sh where brand = 'samsung' group by category_code order by avg_price DESC\"\n",
    "result = spark.sql(query)\n",
    "\n",
    "result.show(n = 100, truncate=False)"
   ]
  },
  {
   "cell_type": "markdown",
   "id": "e0566664-69b2-49f7-bbfe-5f45c791361a",
   "metadata": {},
   "source": [
    "# 전처리에 대한 처리\n",
    "\n",
    "- category_code, brand가 동시에 null값인 것만 삭제한다."
   ]
  },
  {
   "cell_type": "code",
   "execution_count": 21,
   "id": "34fb1492-7f93-481b-b6f1-27743352724d",
   "metadata": {},
   "outputs": [
    {
     "name": "stderr",
     "output_type": "stream",
     "text": [
      "[Stage 10:===================================================>    (12 + 1) / 13]\r"
     ]
    },
    {
     "name": "stdout",
     "output_type": "stream",
     "text": [
      "+--------+\n",
      "|count(1)|\n",
      "+--------+\n",
      "| 1022993|\n",
      "+--------+\n",
      "\n"
     ]
    },
    {
     "name": "stderr",
     "output_type": "stream",
     "text": [
      "                                                                                \r"
     ]
    }
   ],
   "source": [
    "query = \"SELECT count(*) FROM sh where category_code is null and brand is null\"\n",
    "result2 = spark.sql(query)\n",
    "\n",
    "result2.show()"
   ]
  },
  {
   "cell_type": "code",
   "execution_count": 23,
   "id": "ad3850fc-8a4a-4207-8601-4ac4bf87c966",
   "metadata": {},
   "outputs": [
    {
     "name": "stdout",
     "output_type": "stream",
     "text": [
      "+--------+\n",
      "|count(1)|\n",
      "+--------+\n",
      "|45603808|\n",
      "+--------+\n",
      "\n"
     ]
    }
   ],
   "source": [
    "query = \"SELECT count(*) FROM sh where category_code is not null\"\n",
    "result = spark.sql(query)\n",
    "\n",
    "result.show()"
   ]
  },
  {
   "cell_type": "code",
   "execution_count": 24,
   "id": "1beb807c-ac95-4650-a87f-83396ffc9c19",
   "metadata": {},
   "outputs": [
    {
     "name": "stdout",
     "output_type": "stream",
     "text": [
      "+--------------------+----------+----------+-------------------+--------------------+-------+-------+---------+--------------------+\n",
      "|          event_time|event_type|product_id|        category_id|       category_code|  brand|  price|  user_id|        user_session|\n",
      "+--------------------+----------+----------+-------------------+--------------------+-------+-------+---------+--------------------+\n",
      "|2019-11-02 01:14:...|      view|   9800515|2053013554071601477|                null|   null|  98.84|526160987|bf47ad7d-e308-462...|\n",
      "|2019-11-02 01:14:...|      view|   9800610|2053013554071601477|                null|   null| 128.68|526160987|bf47ad7d-e308-462...|\n",
      "|2019-11-02 01:15:...|      view|   9800613|2053013554071601477|                null|   null| 167.29|526160987|bf47ad7d-e308-462...|\n",
      "|2019-11-02 13:40:...|      view|   1307466|2053013558920217191|  computers.notebook|    msi|1549.07|526160987|3f3951e9-a13d-448...|\n",
      "|2019-11-02 13:41:...|      view|   1307466|2053013558920217191|  computers.notebook|    msi|1549.07|526160987|3f3951e9-a13d-448...|\n",
      "|2019-11-03 01:27:...|      view|   1701392|2053013553031414015|computers.periphe...|   acer| 134.37|526160987|c1f86de3-c613-4e8...|\n",
      "|2019-11-03 01:28:...|      view|   1701392|2053013553031414015|computers.periphe...|   acer| 134.37|526160987|c1f86de3-c613-4e8...|\n",
      "|2019-11-03 01:28:...|      view|   1700954|2053013553031414015|computers.periphe...|samsung| 223.66|526160987|c1f86de3-c613-4e8...|\n",
      "|2019-11-03 01:28:...|      view|   1700954|2053013553031414015|computers.periphe...|samsung| 223.66|526160987|c1f86de3-c613-4e8...|\n",
      "|2019-11-03 01:28:...|      view|   1701392|2053013553031414015|computers.periphe...|   acer| 134.37|526160987|c1f86de3-c613-4e8...|\n",
      "|2019-11-03 01:29:...|      view|   1701392|2053013553031414015|computers.periphe...|   acer| 134.37|526160987|c1f86de3-c613-4e8...|\n",
      "|2019-11-03 01:29:...|      view|   1700954|2053013553031414015|computers.periphe...|samsung| 223.66|526160987|c1f86de3-c613-4e8...|\n",
      "|2019-11-03 01:29:...|      view|   1700954|2053013553031414015|computers.periphe...|samsung| 223.66|526160987|c1f86de3-c613-4e8...|\n",
      "|2019-11-03 01:30:...|      view|   1701111|2053013553031414015|computers.periphe...|   acer| 514.79|526160987|c1f86de3-c613-4e8...|\n",
      "|2019-11-03 01:30:...|      view|   1701111|2053013553031414015|computers.periphe...|   acer| 514.79|526160987|c1f86de3-c613-4e8...|\n",
      "|2019-11-03 01:30:...|      view|   1701040|2053013553031414015|computers.periphe...|     hp| 154.19|526160987|c1f86de3-c613-4e8...|\n",
      "|2019-11-03 01:30:...|      view|   1701040|2053013553031414015|computers.periphe...|     hp| 154.19|526160987|c1f86de3-c613-4e8...|\n",
      "|2019-11-03 01:31:...|      view|   1701295|2053013553031414015|computers.periphe...|gamemax| 537.98|526160987|c1f86de3-c613-4e8...|\n",
      "|2019-11-03 01:31:...|      view|   1700579|2053013553031414015|computers.periphe...|samsung| 154.42|526160987|c1f86de3-c613-4e8...|\n",
      "|2019-11-03 01:31:...|      view|   1700579|2053013553031414015|computers.periphe...|samsung| 154.42|526160987|c1f86de3-c613-4e8...|\n",
      "+--------------------+----------+----------+-------------------+--------------------+-------+-------+---------+--------------------+\n",
      "only showing top 20 rows\n",
      "\n"
     ]
    }
   ],
   "source": [
    "# SQL 쿼리를 사용하여 데이터 조회\n",
    "query = \"SELECT * FROM sh where user_id='526160987'\"\n",
    "result = spark.sql(query)\n",
    "\n",
    "result.show()"
   ]
  },
  {
   "cell_type": "code",
   "execution_count": null,
   "id": "cf03a3ec-1794-4e29-b74f-88bad27b28c3",
   "metadata": {},
   "outputs": [],
   "source": [
    "result"
   ]
  },
  {
   "cell_type": "code",
   "execution_count": 25,
   "id": "20675d49-57f0-4650-9084-3e6caede2d3c",
   "metadata": {},
   "outputs": [
    {
     "name": "stdout",
     "output_type": "stream",
     "text": [
      "+--------------------+\n",
      "|       category_code|\n",
      "+--------------------+\n",
      "|                null|\n",
      "|                null|\n",
      "|                null|\n",
      "|  computers.notebook|\n",
      "|  computers.notebook|\n",
      "|computers.periphe...|\n",
      "|computers.periphe...|\n",
      "|computers.periphe...|\n",
      "|computers.periphe...|\n",
      "|computers.periphe...|\n",
      "|computers.periphe...|\n",
      "|computers.periphe...|\n",
      "|computers.periphe...|\n",
      "|computers.periphe...|\n",
      "|computers.periphe...|\n",
      "|computers.periphe...|\n",
      "|computers.periphe...|\n",
      "|computers.periphe...|\n",
      "|computers.periphe...|\n",
      "|computers.periphe...|\n",
      "+--------------------+\n",
      "only showing top 20 rows\n",
      "\n"
     ]
    }
   ],
   "source": [
    "# SQL 쿼리를 사용하여 데이터 조회\n",
    "query = \"SELECT category_code FROM sh where user_id='526160987'\"\n",
    "result = spark.sql(query)\n",
    "\n",
    "result.show()"
   ]
  },
  {
   "cell_type": "code",
   "execution_count": 22,
   "id": "d65c49b8-451f-4e74-a2ab-25d1ac511769",
   "metadata": {},
   "outputs": [
    {
     "name": "stdout",
     "output_type": "stream",
     "text": [
      "+--------------------+----------+----------+-------------------+--------------------+--------+------+---------+--------------------+-----------+--------------+-------------+\n",
      "|          event_time|event_type|product_id|        category_id|       category_code|   brand| price|  user_id|        user_session|      major|  Intermediate|        minor|\n",
      "+--------------------+----------+----------+-------------------+--------------------+--------+------+---------+--------------------+-----------+--------------+-------------+\n",
      "|2019-11-01 00:00:...|      view|   1003461|2053013555631882655|electronics.smart...|  xiaomi|489.07|520088904|4d3b30da-a5e4-49d...|electronics|    smartphone|         null|\n",
      "|2019-11-01 00:00:...|      view|   5000088|2053013566100866035|appliances.sewing...|  janome|293.65|530496790|8e5f4f83-366c-4f7...| appliances|sewing_machine|         null|\n",
      "|2019-11-01 00:00:...|      view|  17302664|2053013553853497655|                null|   creed| 28.31|561587266|755422e7-9040-477...|       null|          null|         null|\n",
      "|2019-11-01 00:00:...|      view|   3601530|2053013563810775923|appliances.kitche...|      lg|712.87|518085591|3bfb58cd-7892-48c...| appliances|       kitchen|       washer|\n",
      "|2019-11-01 00:00:...|      view|   1004775|2053013555631882655|electronics.smart...|  xiaomi|183.27|558856683|313628f1-68b8-460...|electronics|    smartphone|         null|\n",
      "|2019-11-01 00:00:...|      view|   1306894|2053013558920217191|  computers.notebook|      hp|360.09|520772685|816a59f3-f5ae-4cc...|  computers|      notebook|         null|\n",
      "|2019-11-01 00:00:...|      view|   1306421|2053013558920217191|  computers.notebook|      hp|514.56|514028527|df8184cc-3694-454...|  computers|      notebook|         null|\n",
      "|2019-11-01 00:00:...|      view|  15900065|2053013558190408249|                null| rondell| 30.86|518574284|5e6ef132-4d7c-473...|       null|          null|         null|\n",
      "|2019-11-01 00:00:...|      view|  12708937|2053013553559896355|                null|michelin| 72.72|532364121|0a899268-31eb-46d...|       null|          null|         null|\n",
      "|2019-11-01 00:00:...|      view|   1004258|2053013555631882655|electronics.smart...|   apple|732.07|532647354|d2d3d2c6-631d-489...|electronics|    smartphone|         null|\n",
      "|2019-11-01 00:00:...|      view|  17200570|2053013559792632471|furniture.living_...|    null|437.33|518780843|aa806835-b14c-45a...|  furniture|   living_room|         sofa|\n",
      "|2019-11-01 00:00:...|      view|   2701517|2053013563911439225|appliances.kitche...|    null|155.11|518427361|c89b0d96-247f-404...| appliances|       kitchen|refrigerators|\n",
      "|2019-11-01 00:00:...|      view|  16700260|2053013559901684381|furniture.kitchen...|    null| 31.64|566255262|173d7b72-1db7-463...|  furniture|       kitchen|        chair|\n",
      "|2019-11-01 00:00:...|      view|  34600011|2060981320581906480|                null|    null| 20.54|512416379|4dfe2c67-e537-4dc...|       null|          null|         null|\n",
      "|2019-11-01 00:00:...|      view|   4600658|2053013563944993659|appliances.kitche...| samsung|411.83|526595547|aab33a9a-29c3-4d5...| appliances|       kitchen|   dishwasher|\n",
      "|2019-11-01 00:00:...|      view|  24900193|2053013562183385881|                null|    null|  1.09|512651494|f603c815-f51a-46f...|       null|          null|         null|\n",
      "|2019-11-01 00:00:...|      view|  27400066|2053013563391345499|                null|    null|  8.55|551061950|3f6112f1-5695-4e8...|       null|          null|         null|\n",
      "|2019-11-01 00:00:...|      view|   5100503|2053013553375346967|                null|  xiaomi| 22.68|520037415|f54fa96a-f3f2-43a...|       null|          null|         null|\n",
      "|2019-11-01 00:00:...|      view|   1004566|2053013555631882655|electronics.smart...|  huawei|164.84|566265908|52c2c76c-b79e-479...|electronics|    smartphone|         null|\n",
      "|2019-11-01 00:00:...|      view|   1307115|2053013558920217191|  computers.notebook|      hp|411.59|514028527|df8184cc-3694-454...|  computers|      notebook|         null|\n",
      "+--------------------+----------+----------+-------------------+--------------------+--------+------+---------+--------------------+-----------+--------------+-------------+\n",
      "only showing top 20 rows\n",
      "\n"
     ]
    }
   ],
   "source": [
    "from pyspark.sql.functions import split\n",
    "# \".\"을 기준으로 칼럼 나누기\n",
    "split_col = split(df[\"category_code\"], \"\\\\.\")\n",
    "df = df.withColumn(\"major\", split_col.getItem(0))\n",
    "df = df.withColumn(\"Intermediate\", split_col.getItem(1))\n",
    "df = df.withColumn(\"minor\", split_col.getItem(2))\n",
    "\n",
    "df.show()"
   ]
  },
  {
   "cell_type": "markdown",
   "id": "564ca7b3-3351-4193-90d2-1825e792ead9",
   "metadata": {},
   "source": [
    "# EDA"
   ]
  },
  {
   "cell_type": "code",
   "execution_count": 28,
   "id": "0add0d33-d44b-4a53-9b57-c3a2b22ac9eb",
   "metadata": {},
   "outputs": [
    {
     "name": "stderr",
     "output_type": "stream",
     "text": [
      "[Stage 53:==================================================>     (10 + 1) / 11]\r"
     ]
    },
    {
     "name": "stdout",
     "output_type": "stream",
     "text": [
      "고유 회원 수: 3,696,117\n"
     ]
    },
    {
     "name": "stderr",
     "output_type": "stream",
     "text": [
      "                                                                                \r"
     ]
    }
   ],
   "source": [
    "# 고유 회원 수 확인 및 콤마 추가\n",
    "unique_user_count = df.select(\"user_id\").distinct().count()\n",
    "formatted_count = \"{:,}\".format(unique_user_count)\n",
    "print(\"고유 회원 수:\", formatted_count)"
   ]
  },
  {
   "cell_type": "code",
   "execution_count": 37,
   "id": "ac973c19-1da8-49ee-aca3-b38e02e9de82",
   "metadata": {},
   "outputs": [
    {
     "name": "stdout",
     "output_type": "stream",
     "text": [
      "+-----------------------+----------+----------+-------------------+--------------------------------+--------+------+---------+------------------------------------+\n",
      "|event_time             |event_type|product_id|category_id        |category_code                   |brand   |price |user_id  |user_session                        |\n",
      "+-----------------------+----------+----------+-------------------+--------------------------------+--------+------+---------+------------------------------------+\n",
      "|2019-11-01 00:00:00 UTC|view      |1003461   |2053013555631882655|electronics.smartphone          |xiaomi  |489.07|520088904|4d3b30da-a5e4-49df-b1a8-ba5943f1dd33|\n",
      "|2019-11-01 00:00:00 UTC|view      |5000088   |2053013566100866035|appliances.sewing_machine       |janome  |293.65|530496790|8e5f4f83-366c-4f70-860e-ca7417414283|\n",
      "|2019-11-01 00:00:01 UTC|view      |17302664  |2053013553853497655|null                            |creed   |28.31 |561587266|755422e7-9040-477b-9bd2-6a6e8fd97387|\n",
      "|2019-11-01 00:00:01 UTC|view      |3601530   |2053013563810775923|appliances.kitchen.washer       |lg      |712.87|518085591|3bfb58cd-7892-48cc-8020-2f17e6de6e7f|\n",
      "|2019-11-01 00:00:01 UTC|view      |1004775   |2053013555631882655|electronics.smartphone          |xiaomi  |183.27|558856683|313628f1-68b8-460d-84f6-cec7a8796ef2|\n",
      "|2019-11-01 00:00:01 UTC|view      |1306894   |2053013558920217191|computers.notebook              |hp      |360.09|520772685|816a59f3-f5ae-4ccd-9b23-82aa8c23d33c|\n",
      "|2019-11-01 00:00:01 UTC|view      |1306421   |2053013558920217191|computers.notebook              |hp      |514.56|514028527|df8184cc-3694-4549-8c8c-6b5171877376|\n",
      "|2019-11-01 00:00:02 UTC|view      |15900065  |2053013558190408249|null                            |rondell |30.86 |518574284|5e6ef132-4d7c-4730-8c7f-85aa4082588f|\n",
      "|2019-11-01 00:00:02 UTC|view      |12708937  |2053013553559896355|null                            |michelin|72.72 |532364121|0a899268-31eb-46de-898d-09b2da950b24|\n",
      "|2019-11-01 00:00:02 UTC|view      |1004258   |2053013555631882655|electronics.smartphone          |apple   |732.07|532647354|d2d3d2c6-631d-489e-9fb5-06f340b85be0|\n",
      "|2019-11-01 00:00:03 UTC|view      |17200570  |2053013559792632471|furniture.living_room.sofa      |null    |437.33|518780843|aa806835-b14c-45af-9538-cd4d1849be3e|\n",
      "|2019-11-01 00:00:03 UTC|view      |2701517   |2053013563911439225|appliances.kitchen.refrigerators|null    |155.11|518427361|c89b0d96-247f-4044-9c91-bb5f38c6af9b|\n",
      "|2019-11-01 00:00:03 UTC|view      |16700260  |2053013559901684381|furniture.kitchen.chair         |null    |31.64 |566255262|173d7b72-1db7-4638-8207-be8148bf3c9f|\n",
      "|2019-11-01 00:00:04 UTC|view      |34600011  |2060981320581906480|null                            |null    |20.54 |512416379|4dfe2c67-e537-4dc2-ae69-0b65263db091|\n",
      "|2019-11-01 00:00:05 UTC|view      |4600658   |2053013563944993659|appliances.kitchen.dishwasher   |samsung |411.83|526595547|aab33a9a-29c3-4d50-84c1-8a2bc9256104|\n",
      "|2019-11-01 00:00:06 UTC|view      |24900193  |2053013562183385881|null                            |null    |1.09  |512651494|f603c815-f51a-46fe-9404-cb586e35edaf|\n",
      "|2019-11-01 00:00:07 UTC|view      |27400066  |2053013563391345499|null                            |null    |8.55  |551061950|3f6112f1-5695-4e88-bb0a-49f9e36658ff|\n",
      "|2019-11-01 00:00:07 UTC|view      |5100503   |2053013553375346967|null                            |xiaomi  |22.68 |520037415|f54fa96a-f3f2-43ac-99a4-fcb2a449dd36|\n",
      "|2019-11-01 00:00:07 UTC|view      |1004566   |2053013555631882655|electronics.smartphone          |huawei  |164.84|566265908|52c2c76c-b79e-4794-86ff-badc76d35f5a|\n",
      "|2019-11-01 00:00:08 UTC|view      |1307115   |2053013558920217191|computers.notebook              |hp      |411.59|514028527|df8184cc-3694-4549-8c8c-6b5171877376|\n",
      "+-----------------------+----------+----------+-------------------+--------------------------------+--------+------+---------+------------------------------------+\n",
      "only showing top 20 rows\n",
      "\n"
     ]
    }
   ],
   "source": [
    "df.show(truncate = False)"
   ]
  },
  {
   "cell_type": "markdown",
   "id": "f29bed62-1853-45d8-a5f0-7bc0f261564d",
   "metadata": {},
   "source": [
    "# 전환율 확인"
   ]
  },
  {
   "cell_type": "code",
   "execution_count": 23,
   "id": "5272e4c2-d8c2-4776-8f6a-2631a5557f59",
   "metadata": {
    "scrolled": true
   },
   "outputs": [
    {
     "name": "stderr",
     "output_type": "stream",
     "text": [
      "[Stage 16:=============================>                            (1 + 1) / 2]\r"
     ]
    },
    {
     "name": "stdout",
     "output_type": "stream",
     "text": [
      "+---------+--------+\n",
      "|  user_id|cnt_view|\n",
      "+---------+--------+\n",
      "|512475445|    2738|\n",
      "|568778435|    2069|\n",
      "|512365995|    1459|\n",
      "|559249905|    1216|\n",
      "|539585530|     966|\n",
      "|531537488|     965|\n",
      "|518373642|     908|\n",
      "|564749784|     898|\n",
      "|558035852|     894|\n",
      "|567475167|     866|\n",
      "|514702154|     859|\n",
      "|541327921|     817|\n",
      "|516795601|     805|\n",
      "|513778820|     804|\n",
      "|514998287|     792|\n",
      "|514649263|     783|\n",
      "|561633787|     782|\n",
      "|512401084|     745|\n",
      "|546309572|     735|\n",
      "|515113432|     724|\n",
      "+---------+--------+\n",
      "only showing top 20 rows\n",
      "\n"
     ]
    },
    {
     "name": "stderr",
     "output_type": "stream",
     "text": [
      "                                                                                \r"
     ]
    }
   ],
   "source": [
    "# user_id별로 user_id와 view 횟수 조회하기\n",
    "query = \"SELECT user_id, count(*) AS cnt_view FROM sh WHERE event_type = 'view' group by user_id order by cnt_view DESC\"\n",
    "result_view = spark.sql(query)\n",
    "\n",
    "result_view.show()"
   ]
  },
  {
   "cell_type": "code",
   "execution_count": 24,
   "id": "a0567dfd-2b86-4772-9013-3728e1a3ef7c",
   "metadata": {
    "scrolled": true
   },
   "outputs": [
    {
     "name": "stderr",
     "output_type": "stream",
     "text": [
      "[Stage 17:===============================================>        (11 + 2) / 13]\r"
     ]
    },
    {
     "name": "stdout",
     "output_type": "stream",
     "text": [
      "+---------+--------+\n",
      "|  user_id|cnt_cart|\n",
      "+---------+--------+\n",
      "|564068124|     290|\n",
      "|538042220|     168|\n",
      "|562538224|     125|\n",
      "|565782150|     122|\n",
      "|564133858|      89|\n",
      "|563889375|      85|\n",
      "|549030056|      82|\n",
      "|541328903|      81|\n",
      "|512792872|      69|\n",
      "|549109608|      66|\n",
      "|531261934|      66|\n",
      "|521350556|      65|\n",
      "|557254614|      63|\n",
      "|555561884|      60|\n",
      "|566195962|      60|\n",
      "|535795876|      59|\n",
      "|558728074|      54|\n",
      "|543595420|      53|\n",
      "|520670468|      51|\n",
      "|547080420|      50|\n",
      "+---------+--------+\n",
      "only showing top 20 rows\n",
      "\n"
     ]
    },
    {
     "name": "stderr",
     "output_type": "stream",
     "text": [
      "                                                                                \r"
     ]
    }
   ],
   "source": [
    "# user_id별로 user_id와 cart 횟수 조회하기\n",
    "query = \"SELECT user_id, count(*) AS cnt_cart FROM sh WHERE event_type = 'cart' group by user_id order by cnt_cart DESC\"\n",
    "result_cart = spark.sql(query)\n",
    "\n",
    "result_cart.show()"
   ]
  },
  {
   "cell_type": "code",
   "execution_count": 25,
   "id": "8d4de77d-bcfd-4598-b6e2-212da2ed55a1",
   "metadata": {},
   "outputs": [
    {
     "name": "stderr",
     "output_type": "stream",
     "text": [
      "[Stage 20:===================================================>    (12 + 1) / 13]\r"
     ]
    },
    {
     "name": "stdout",
     "output_type": "stream",
     "text": [
      "+---------+------------+\n",
      "|  user_id|cnt_purchase|\n",
      "+---------+------------+\n",
      "|564068124|         387|\n",
      "|566195962|         133|\n",
      "|549109608|          65|\n",
      "|535327520|          64|\n",
      "|557254614|          59|\n",
      "|564769842|          57|\n",
      "|558186321|          54|\n",
      "|515644853|          51|\n",
      "|551801600|          50|\n",
      "|551140089|          50|\n",
      "|555561884|          49|\n",
      "|563889375|          49|\n",
      "|513320236|          48|\n",
      "|512386086|          46|\n",
      "|566307865|          46|\n",
      "|564133858|          46|\n",
      "|566619988|          46|\n",
      "|531954737|          46|\n",
      "|543595420|          45|\n",
      "|562993718|          43|\n",
      "+---------+------------+\n",
      "only showing top 20 rows\n",
      "\n"
     ]
    },
    {
     "name": "stderr",
     "output_type": "stream",
     "text": [
      "                                                                                \r"
     ]
    }
   ],
   "source": [
    "# 가장 접속이 많은 회원을 기준으로 내림차순 정렬로 user_id와 접속 횟수 확인하기\n",
    "query = \"SELECT user_id, count(*) AS cnt_purchase from sh where event_type = 'purchase' group by user_id order by cnt_purchase DESC\"\n",
    "result_purchase = spark.sql(query)\n",
    "\n",
    "result_purchase.show()"
   ]
  },
  {
   "cell_type": "code",
   "execution_count": 26,
   "id": "4618feb3-d577-4c4e-8e5b-3ec550db15c5",
   "metadata": {},
   "outputs": [],
   "source": [
    "# result_view, result_cart, result_purchase 데이터프레임을 SQL 임시 테이블로 등록\n",
    "result_view.createOrReplaceTempView(\"result_view\")\n",
    "result_cart.createOrReplaceTempView(\"result_cart\")\n",
    "result_purchase.createOrReplaceTempView(\"result_purchase\")"
   ]
  },
  {
   "cell_type": "code",
   "execution_count": 27,
   "id": "29019b19-6b8e-4c5e-94cc-f6d68c1cd1ac",
   "metadata": {},
   "outputs": [
    {
     "name": "stderr",
     "output_type": "stream",
     "text": [
      "                                                                                \r"
     ]
    },
    {
     "name": "stdout",
     "output_type": "stream",
     "text": [
      "+---------+--------+--------+------------+\n",
      "|  user_id|cnt_view|cnt_cart|cnt_purchase|\n",
      "+---------+--------+--------+------------+\n",
      "|555708149|      60|       5|           2|\n",
      "|563293492|      31|       1|           2|\n",
      "|516308340|      48|       5|           3|\n",
      "|566302095|       1|       2|           1|\n",
      "|536583068|      15|       1|           3|\n",
      "|519066075|      41|       3|           5|\n",
      "|530764630|       4|       1|           1|\n",
      "|532451183|      18|       3|           2|\n",
      "|522929556|      19|      15|          12|\n",
      "|514385719|     102|       6|          23|\n",
      "|566088492|      20|       2|           2|\n",
      "|529553077|       5|       1|           2|\n",
      "|562665439|      12|       1|           1|\n",
      "|515454449|       7|       4|           3|\n",
      "|555771862|      63|       2|          38|\n",
      "|538771058|       5|       1|           1|\n",
      "|548752690|       4|       1|           1|\n",
      "|566352788|       8|       2|           2|\n",
      "|515962636|      12|       1|           2|\n",
      "|536866041|      27|       9|           2|\n",
      "+---------+--------+--------+------------+\n",
      "only showing top 20 rows\n",
      "\n"
     ]
    }
   ],
   "source": [
    "query = \"\"\"\n",
    "SELECT v.user_id, v.cnt_view, c.cnt_cart, p.cnt_purchase\n",
    "FROM result_view v\n",
    "JOIN result_cart c ON v.user_id = c.user_id\n",
    "JOIN result_purchase p ON v.user_id = p.user_id\n",
    "\"\"\"\n",
    "result_combined = spark.sql(query)\n",
    "\n",
    "result_combined.show()\n"
   ]
  },
  {
   "cell_type": "code",
   "execution_count": null,
   "id": "241034c8-5179-410a-941d-d88408597828",
   "metadata": {},
   "outputs": [],
   "source": []
  },
  {
   "cell_type": "code",
   "execution_count": null,
   "id": "19a159fd-6a93-4eff-be58-b9ce46c892a9",
   "metadata": {},
   "outputs": [],
   "source": []
  },
  {
   "cell_type": "markdown",
   "id": "1b3b5acd-3c03-49dc-9873-380330f10be8",
   "metadata": {},
   "source": [
    "# 카테고리 별 상품 개수"
   ]
  },
  {
   "cell_type": "code",
   "execution_count": 28,
   "id": "4fd06fc0-d45c-4938-aa4f-d0e10c645931",
   "metadata": {},
   "outputs": [
    {
     "name": "stderr",
     "output_type": "stream",
     "text": [
      "[Stage 32:===================================================>    (12 + 1) / 13]\r"
     ]
    },
    {
     "name": "stdout",
     "output_type": "stream",
     "text": [
      "+--------------------------------------+-------+\n",
      "|category_code                         |cnt    |\n",
      "+--------------------------------------+-------+\n",
      "|null                                  |4057131|\n",
      "|electronics.smartphone                |3112665|\n",
      "|electronics.clocks                    |372828 |\n",
      "|electronics.video.tv                  |366049 |\n",
      "|computers.notebook                    |362154 |\n",
      "|apparel.shoes                         |333306 |\n",
      "|electronics.audio.headphone           |313260 |\n",
      "|appliances.kitchen.refrigerators      |245122 |\n",
      "|appliances.kitchen.washer             |241965 |\n",
      "|appliances.environment.vacuum         |236026 |\n",
      "|computers.desktop                     |129268 |\n",
      "|furniture.living_room.cabinet         |118028 |\n",
      "|furniture.bedroom.bed                 |112486 |\n",
      "|apparel.shoes.keds                    |111886 |\n",
      "|auto.accessories.player               |97524  |\n",
      "|furniture.living_room.sofa            |89985  |\n",
      "|electronics.tablet                    |88240  |\n",
      "|construction.tools.drill              |69246  |\n",
      "|electronics.telephone                 |66733  |\n",
      "|electronics.audio.subwoofer           |65626  |\n",
      "|kids.carriage                         |61129  |\n",
      "|appliances.kitchen.oven               |59798  |\n",
      "|apparel.costume                       |56035  |\n",
      "|accessories.bag                       |55895  |\n",
      "|appliances.kitchen.blender            |53334  |\n",
      "|auto.accessories.alarm                |48964  |\n",
      "|appliances.kitchen.kettle             |45678  |\n",
      "|appliances.kitchen.microwave          |45141  |\n",
      "|auto.accessories.videoregister        |45027  |\n",
      "|appliances.sewing_machine             |44053  |\n",
      "|appliances.iron                       |44049  |\n",
      "|furniture.kitchen.table               |40249  |\n",
      "|computers.peripherals.printer         |38964  |\n",
      "|appliances.kitchen.meat_grinder       |37226  |\n",
      "|computers.peripherals.monitor         |35685  |\n",
      "|appliances.environment.water_heater   |35627  |\n",
      "|construction.tools.saw                |35427  |\n",
      "|appliances.environment.air_heater     |35063  |\n",
      "|furniture.kitchen.chair               |34527  |\n",
      "|kids.toys                             |33874  |\n",
      "|construction.tools.generator          |32013  |\n",
      "|appliances.kitchen.hob                |31926  |\n",
      "|appliances.kitchen.hood               |29323  |\n",
      "|electronics.audio.acoustic            |27726  |\n",
      "|computers.components.videocards       |27277  |\n",
      "|appliances.kitchen.dishwasher         |26359  |\n",
      "|construction.tools.welding            |26114  |\n",
      "|appliances.kitchen.mixer              |25824  |\n",
      "|appliances.kitchen.coffee_machine     |24763  |\n",
      "|sport.bicycle                         |22887  |\n",
      "|apparel.dress                         |21168  |\n",
      "|appliances.kitchen.grill              |20547  |\n",
      "|computers.peripherals.mouse           |18430  |\n",
      "|computers.components.hdd              |17639  |\n",
      "|appliances.personal.scales            |17194  |\n",
      "|auto.accessories.compressor           |16369  |\n",
      "|furniture.living_room.chair           |16339  |\n",
      "|appliances.personal.hair_cutter       |16165  |\n",
      "|kids.skates                           |15872  |\n",
      "|computers.components.cpu              |14448  |\n",
      "|computers.peripherals.keyboard        |14393  |\n",
      "|appliances.environment.air_conditioner|13575  |\n",
      "|sport.trainer                         |13514  |\n",
      "|apparel.jeans                         |13260  |\n",
      "|accessories.wallet                    |13175  |\n",
      "|computers.components.motherboard      |12970  |\n",
      "|kids.dolls                            |12255  |\n",
      "|computers.components.cooler           |11958  |\n",
      "|computers.components.memory           |11610  |\n",
      "|appliances.kitchen.juicer             |11374  |\n",
      "|electronics.camera.video              |11243  |\n",
      "|electronics.audio.music_tools.piano   |10838  |\n",
      "|apparel.underwear                     |10149  |\n",
      "|kids.swing                            |9751   |\n",
      "|appliances.ironing_board              |8744   |\n",
      "|electronics.audio.microphone          |8581   |\n",
      "|computers.ebooks                      |8518   |\n",
      "|construction.tools.pump               |7486   |\n",
      "|auto.accessories.radar                |7460   |\n",
      "|kids.fmcg.diapers                     |7158   |\n",
      "|construction.components.faucet        |6954   |\n",
      "|appliances.personal.massager          |6773   |\n",
      "|apparel.shirt                         |6624   |\n",
      "|appliances.kitchen.toster             |6444   |\n",
      "|construction.tools.light              |6340   |\n",
      "|furniture.bedroom.pillow              |5754   |\n",
      "|furniture.bedroom.blanket             |5079   |\n",
      "|apparel.tshirt                        |4912   |\n",
      "|furniture.bathroom.toilet             |4895   |\n",
      "|apparel.jumper                        |4892   |\n",
      "|apparel.trousers                      |4667   |\n",
      "|computers.components.power_supply     |4516   |\n",
      "|medicine.tools.tonometer              |4338   |\n",
      "|construction.tools.painting           |4107   |\n",
      "|electronics.camera.photo              |4042   |\n",
      "|furniture.bathroom.bath               |3859   |\n",
      "|electronics.video.projector           |3662   |\n",
      "|furniture.universal.light             |3444   |\n",
      "|appliances.kitchen.steam_cooker       |3376   |\n",
      "|appliances.kitchen.coffee_grinder     |2946   |\n",
      "+--------------------------------------+-------+\n",
      "only showing top 100 rows\n",
      "\n",
      "작업 실행 시간: 13.51702880859375 초\n"
     ]
    },
    {
     "name": "stderr",
     "output_type": "stream",
     "text": [
      "                                                                                \r"
     ]
    }
   ],
   "source": [
    "# 시작 시간 기록\n",
    "import time\n",
    "start_time = time.time()\n",
    "\n",
    "# result_view, result_cart, result_purchase 를 조인해서 user_id 별 view, cart, purchase 수 확인하기\n",
    "query = \"\"\"\n",
    "SELECT category_code, count(*) AS cnt\n",
    "FROM sh\n",
    "GROUP BY category_code\n",
    "ORDER BY cnt DESC\n",
    "\"\"\"\n",
    "result_total = spark.sql(query)\n",
    "\n",
    "result_total.show(n=100,truncate=False)\n",
    "# 작업 완료 시간 기록\n",
    "end_time = time.time()\n",
    "# 작업 실행 시간 계산\n",
    "execution_time = end_time - start_time\n",
    "print(\"작업 실행 시간:\", execution_time, \"초\")"
   ]
  },
  {
   "cell_type": "markdown",
   "id": "e70df0e7-bc38-41de-9331-6c4ef024f7eb",
   "metadata": {},
   "source": [
    "# 카테고리 별 판매 상품 개수"
   ]
  },
  {
   "cell_type": "code",
   "execution_count": 29,
   "id": "eb75e775-6431-468b-9a12-e24dedfe385e",
   "metadata": {},
   "outputs": [
    {
     "name": "stderr",
     "output_type": "stream",
     "text": [
      "[Stage 35:===================================================>    (12 + 1) / 13]\r"
     ]
    },
    {
     "name": "stdout",
     "output_type": "stream",
     "text": [
      "+--------------------------------+-----+\n",
      "|category_code                   |cnt  |\n",
      "+--------------------------------+-----+\n",
      "|electronics.smartphone          |78254|\n",
      "|null                            |50657|\n",
      "|electronics.audio.headphone     |7454 |\n",
      "|electronics.video.tv            |5130 |\n",
      "|electronics.clocks              |4224 |\n",
      "|appliances.kitchen.washer       |3522 |\n",
      "|computers.notebook              |3317 |\n",
      "|appliances.environment.vacuum   |2565 |\n",
      "|appliances.kitchen.refrigerators|2126 |\n",
      "|apparel.shoes                   |1513 |\n",
      "+--------------------------------+-----+\n",
      "\n",
      "작업 실행 시간: 11.464547634124756 초\n"
     ]
    },
    {
     "name": "stderr",
     "output_type": "stream",
     "text": [
      "                                                                                \r"
     ]
    }
   ],
   "source": [
    "# 시작 시간 기록\n",
    "import time\n",
    "start_time = time.time()\n",
    "\n",
    "# result_view, result_cart, result_purchase 를 조인해서 user_id 별 view, cart, purchase 수 확인하기\n",
    "query = \"\"\"\n",
    "SELECT category_code, count(*) AS cnt\n",
    "FROM sh\n",
    "WHERE event_type = 'purchase'\n",
    "GROUP BY category_code\n",
    "ORDER BY cnt DESC\n",
    "LIMIT 10\n",
    "\"\"\"\n",
    "result_total = spark.sql(query)\n",
    "\n",
    "result_total.show(n=100,truncate=False)\n",
    "# 작업 완료 시간 기록\n",
    "end_time = time.time()\n",
    "# 작업 실행 시간 계산\n",
    "execution_time = end_time - start_time\n",
    "print(\"작업 실행 시간:\", execution_time, \"초\")"
   ]
  },
  {
   "cell_type": "code",
   "execution_count": 30,
   "id": "bdc2cafe-a879-43c4-8a67-8452c254127c",
   "metadata": {},
   "outputs": [],
   "source": [
    "result_total.createOrReplaceTempView(\"result_total\")"
   ]
  },
  {
   "cell_type": "code",
   "execution_count": null,
   "id": "a104fbe5-1c2d-4474-a34f-78499b3024ee",
   "metadata": {},
   "outputs": [],
   "source": [
    "pip install matplotlib"
   ]
  },
  {
   "cell_type": "code",
   "execution_count": 60,
   "id": "3b364b4d-cfe5-4917-97ac-db7c8a0aa509",
   "metadata": {},
   "outputs": [
    {
     "name": "stderr",
     "output_type": "stream",
     "text": [
      "                                                                                \r"
     ]
    },
    {
     "data": {
      "image/png": "[encoded data removed]",
      "text/plain": [
       "<Figure size 640x480 with 1 Axes>"
      ]
     },
     "metadata": {},
     "output_type": "display_data"
    }
   ],
   "source": [
    "# 라이브러리 가져오기\n",
    "import matplotlib.pyplot as plt\n",
    "from pyspark.sql.functions import col\n",
    "\n",
    "# 데이터 프레임 생성\n",
    "# result_total = spark.createDataFrame(result_total)\n",
    "\n",
    "# 막대 그래프 출력\n",
    "result_total.toPandas().plot(kind=\"bar\", x=\"category_code\", y=\"cnt\")\n",
    "plt.show()"
   ]
  },
  {
   "cell_type": "markdown",
   "id": "2ebefe1a-91c8-46ea-b5e5-b4f08377577d",
   "metadata": {},
   "source": [
    "# 브랜드 별 상품 개수 (상위 10개)"
   ]
  },
  {
   "cell_type": "code",
   "execution_count": 31,
   "id": "d5e827e4-97a7-4de3-acc1-91a3bf8ded04",
   "metadata": {},
   "outputs": [
    {
     "name": "stderr",
     "output_type": "stream",
     "text": [
      "[Stage 38:===================================================>    (12 + 1) / 13]\r"
     ]
    },
    {
     "name": "stdout",
     "output_type": "stream",
     "text": [
      "+--------+-------+\n",
      "|brand   |cnt    |\n",
      "+--------+-------+\n",
      "|null    |1726534|\n",
      "|samsung |1429123|\n",
      "|apple   |1180277|\n",
      "|xiaomi  |843987 |\n",
      "|huawei  |273904 |\n",
      "|lucente |187626 |\n",
      "|cordiant|179698 |\n",
      "|lg      |168707 |\n",
      "|bosch   |160061 |\n",
      "|oppo    |153036 |\n",
      "+--------+-------+\n",
      "\n",
      "작업 실행 시간: 12.99484133720398 초\n"
     ]
    },
    {
     "name": "stderr",
     "output_type": "stream",
     "text": [
      "                                                                                \r"
     ]
    }
   ],
   "source": [
    "# 시작 시간 기록\n",
    "import time\n",
    "start_time = time.time()\n",
    "\n",
    "# result_view, result_cart, result_purchase 를 조인해서 user_id 별 view, cart, purchase 수 확인하기\n",
    "query = \"\"\"\n",
    "SELECT brand, count(*) AS cnt\n",
    "FROM sh\n",
    "GROUP BY brand\n",
    "ORDER BY cnt DESC\n",
    "LIMIT 10\n",
    "\"\"\"\n",
    "result_total = spark.sql(query)\n",
    "\n",
    "result_total.show(n=100,truncate=False)\n",
    "# 작업 완료 시간 기록\n",
    "end_time = time.time()\n",
    "# 작업 실행 시간 계산\n",
    "execution_time = end_time - start_time\n",
    "print(\"작업 실행 시간:\", execution_time, \"초\")"
   ]
  },
  {
   "cell_type": "code",
   "execution_count": 34,
   "id": "016305d8-4c79-4a5a-b939-012cd40fe81f",
   "metadata": {},
   "outputs": [
    {
     "name": "stderr",
     "output_type": "stream",
     "text": [
      "                                                                                \r"
     ]
    }
   ],
   "source": [
    "result_total.write.format(\"csv\").option(\"header\", \"true\").mode(\"overwrite\").save(\"./csv\")\n"
   ]
  },
  {
   "cell_type": "markdown",
   "id": "34889502-b00c-4abc-bee8-8a9194a4985d",
   "metadata": {},
   "source": [
    "# 데이터 분류 기준"
   ]
  },
  {
   "cell_type": "markdown",
   "id": "9aba8d2b-f000-4cea-b2eb-94ac7aedaa66",
   "metadata": {},
   "source": [
    "## 1. category_code: 대 > 중 > 소 컬럼 나누기"
   ]
  },
  {
   "cell_type": "markdown",
   "id": "6e001924-bd4c-4bbe-beaa-a7a5c3d3b095",
   "metadata": {},
   "source": [
    "## 2. 전환 유형 Fix 하기\n",
    "### ① view -> cart (cart 전환 후 이탈 고객)\n",
    "### ② cart -> purchase (최종 구매 전환 고객)\n",
    "### ③ view -> purchase (cart 없이 바로 구매 전환한 고객)"
   ]
  },
  {
   "cell_type": "code",
   "execution_count": 14,
   "id": "7b872c82-b52e-402e-8227-0179968a6334",
   "metadata": {},
   "outputs": [
    {
     "ename": "SyntaxError",
     "evalue": "invalid syntax (670820051.py, line 8)",
     "output_type": "error",
     "traceback": [
      "\u001b[0;36m  Cell \u001b[0;32mIn[14], line 8\u001b[0;36m\u001b[0m\n\u001b[0;31m    )result.write.format('bigquery') \\\u001b[0m\n\u001b[0m     ^\u001b[0m\n\u001b[0;31mSyntaxError\u001b[0m\u001b[0;31m:\u001b[0m invalid syntax\n"
     ]
    }
   ],
   "source": [
    "spark = (\n",
    "    SparkSession.builder.appName(\"BigQuery with PySpark\")\n",
    "    .config(\n",
    "        \"spark.jars\",\n",
    "        \"gs://spark-lib/bigquery/spark-bigquery-latest_2.12.jar\"\n",
    "    )\n",
    "    .getOrCreate()\n",
    ")result.write.format('bigquery') \\\n",
    "  .option('table', 'unique-hour-395905.shopping_mall.shop_log') \\\n",
    "  .option(\"credentialsFile\", \"/home/hadoop/다운로드/playdata-2-1e60a2f219de.json\") \\\n",
    "  .save()"
   ]
  },
  {
   "cell_type": "code",
   "execution_count": 30,
   "id": "cd607d39-ba1a-4b51-85be-3cf354c5faec",
   "metadata": {},
   "outputs": [],
   "source": [
    "from pyspark.sql import SparkSession\n",
    "from pyspark.sql.types import StringType, IntegerType, StructType, StructField"
   ]
  },
  {
   "cell_type": "code",
   "execution_count": 17,
   "id": "b7ef62ba",
   "metadata": {},
   "outputs": [
    {
     "name": "stderr",
     "output_type": "stream",
     "text": [
      "23/08/24 19:50:24 ERROR SparkContext: Failed to add C:/workspace/spark-bigquery_2.12.jar to Spark environment\n",
      "org.apache.hadoop.fs.UnsupportedFileSystemException: No FileSystem for scheme \"C\"\n",
      "\tat org.apache.hadoop.fs.FileSystem.getFileSystemClass(FileSystem.java:3443)\n",
      "\tat org.apache.hadoop.fs.FileSystem.createFileSystem(FileSystem.java:3466)\n",
      "\tat org.apache.hadoop.fs.FileSystem.access$300(FileSystem.java:174)\n",
      "\tat org.apache.hadoop.fs.FileSystem$Cache.getInternal(FileSystem.java:3574)\n",
      "\tat org.apache.hadoop.fs.FileSystem$Cache.get(FileSystem.java:3521)\n",
      "\tat org.apache.hadoop.fs.FileSystem.get(FileSystem.java:540)\n",
      "\tat org.apache.hadoop.fs.Path.getFileSystem(Path.java:365)\n",
      "\tat org.apache.spark.SparkContext.checkRemoteJarFile$1(SparkContext.scala:1987)\n",
      "\tat org.apache.spark.SparkContext.addJar(SparkContext.scala:2031)\n",
      "\tat org.apache.spark.SparkContext.$anonfun$new$12(SparkContext.scala:507)\n",
      "\tat org.apache.spark.SparkContext.$anonfun$new$12$adapted(SparkContext.scala:507)\n",
      "\tat scala.collection.mutable.ResizableArray.foreach(ResizableArray.scala:62)\n",
      "\tat scala.collection.mutable.ResizableArray.foreach$(ResizableArray.scala:55)\n",
      "\tat scala.collection.mutable.ArrayBuffer.foreach(ArrayBuffer.scala:49)\n",
      "\tat org.apache.spark.SparkContext.<init>(SparkContext.scala:507)\n",
      "\tat org.apache.spark.api.java.JavaSparkContext.<init>(JavaSparkContext.scala:58)\n",
      "\tat sun.reflect.NativeConstructorAccessorImpl.newInstance0(Native Method)\n",
      "\tat sun.reflect.NativeConstructorAccessorImpl.newInstance(NativeConstructorAccessorImpl.java:62)\n",
      "\tat sun.reflect.DelegatingConstructorAccessorImpl.newInstance(DelegatingConstructorAccessorImpl.java:45)\n",
      "\tat java.lang.reflect.Constructor.newInstance(Constructor.java:423)\n",
      "\tat py4j.reflection.MethodInvoker.invoke(MethodInvoker.java:247)\n",
      "\tat py4j.reflection.ReflectionEngine.invoke(ReflectionEngine.java:374)\n",
      "\tat py4j.Gateway.invoke(Gateway.java:238)\n",
      "\tat py4j.commands.ConstructorCommand.invokeConstructor(ConstructorCommand.java:80)\n",
      "\tat py4j.commands.ConstructorCommand.execute(ConstructorCommand.java:69)\n",
      "\tat py4j.ClientServerConnection.waitForCommands(ClientServerConnection.java:182)\n",
      "\tat py4j.ClientServerConnection.run(ClientServerConnection.java:106)\n",
      "\tat java.lang.Thread.run(Thread.java:750)\n"
     ]
    }
   ],
   "source": [
    "# PySpark 세션을 생성합니다. BigQuery와 연결을 설정하기 위한 구성을 추가합니다.\n",
    "spark = SparkSession.builder \\\n",
    "    .appName(\"BigQuery export\") \\\n",
    "    .config(\"spark.jars\", \"C:/workspace/spark-bigquery_2.12.jar\") \\\n",
    "    .config(\"spark.sql.execution.arrow.enabled\", \"true\") \\\n",
    "    .getOrCreate()"
   ]
  },
  {
   "cell_type": "code",
   "execution_count": null,
   "id": "8d044327",
   "metadata": {},
   "outputs": [],
   "source": [
    "data = spark.read\\\n",
    "    .format(\"csv\")\\\n",
    "    .option(\"header\", \"true\")\\\n",
    "    .option(\"inferSchema\", \"true\")\\\n",
    "    .load(\"C:\\\\workspace\\\\2019-Nov.csv\")"
   ]
  },
  {
   "cell_type": "code",
   "execution_count": 27,
   "id": "52038ccc",
   "metadata": {},
   "outputs": [],
   "source": [
    "spark.stop()"
   ]
  },
  {
   "cell_type": "code",
   "execution_count": 53,
   "id": "d7b785d8",
   "metadata": {},
   "outputs": [
    {
     "name": "stderr",
     "output_type": "stream",
     "text": [
      "23/08/24 18:42:45 WARN SparkSession: Using an existing Spark session; only runtime SQL configurations will take effect.\n",
      "23/08/24 18:42:45 WARN SQLConf: The SQL config 'spark.sql.execution.arrow.enabled' has been deprecated in Spark v3.0 and may be removed in the future. Use 'spark.sql.execution.arrow.pyspark.enabled' instead of it.\n"
     ]
    }
   ],
   "source": [
    "from pyspark.sql import SparkSession\n",
    "from google.cloud import storage\n",
    "\n",
    "# 구글 클라우드 스토리지 클라이언트 인스턴스 생성\n",
    "storage_client = storage.Client.from_service_account_json('/home/oh/spark/unique-hour-395905-146673f22a80.json')\n",
    "\n",
    "# BigQuery와 연결을 설정하기 위한 구성과 함께 PySpark 세션을 생성합니다.\n",
    "spark = SparkSession.builder \\\n",
    "    .appName(\"BigQuery export\") \\\n",
    "    .config(\"spark.jars\", \"/home/oh/spark/pyspark/lib/python3.10/site-packages/pyspark/jars/spark-bigquery-latest.jar\") \\\n",
    "    .config('spark.hadoop.google.cloud.auth.service.account.json.keyfile', '/home/oh/spark/unique-hour-395905-146673f22a80.json') \\\n",
    "    .getOrCreate()\n",
    "spark.conf.set(\"spark.sql.execution.arrow.enabled\", \"true\")"
   ]
  },
  {
   "cell_type": "code",
   "execution_count": 58,
   "id": "b6d1494c",
   "metadata": {},
   "outputs": [
    {
     "name": "stdout",
     "output_type": "stream",
     "text": [
      "+--------+-------+\n",
      "|   brand|    cnt|\n",
      "+--------+-------+\n",
      "|    null|1726534|\n",
      "| samsung|1429123|\n",
      "|   apple|1180277|\n",
      "|  xiaomi| 843987|\n",
      "|  huawei| 273904|\n",
      "| lucente| 187626|\n",
      "|cordiant| 179698|\n",
      "|      lg| 168707|\n",
      "|   bosch| 160061|\n",
      "|    oppo| 153036|\n",
      "+--------+-------+\n",
      "\n"
     ]
    }
   ],
   "source": [
    "result_total.show()"
   ]
  },
  {
   "cell_type": "code",
   "execution_count": 66,
   "id": "125f9208",
   "metadata": {},
   "outputs": [
    {
     "data": {
      "text/html": [
       "<div>\n",
       "<style scoped>\n",
       "    .dataframe tbody tr th:only-of-type {\n",
       "        vertical-align: middle;\n",
       "    }\n",
       "\n",
       "    .dataframe tbody tr th {\n",
       "        vertical-align: top;\n",
       "    }\n",
       "\n",
       "    .dataframe thead th {\n",
       "        text-align: right;\n",
       "    }\n",
       "</style>\n",
       "<table border=\"1\" class=\"dataframe\">\n",
       "  <thead>\n",
       "    <tr style=\"text-align: right;\">\n",
       "      <th></th>\n",
       "      <th>brand</th>\n",
       "      <th>cnt</th>\n",
       "    </tr>\n",
       "  </thead>\n",
       "  <tbody>\n",
       "    <tr>\n",
       "      <th>0</th>\n",
       "      <td>None</td>\n",
       "      <td>1726534</td>\n",
       "    </tr>\n",
       "    <tr>\n",
       "      <th>1</th>\n",
       "      <td>samsung</td>\n",
       "      <td>1429123</td>\n",
       "    </tr>\n",
       "    <tr>\n",
       "      <th>2</th>\n",
       "      <td>apple</td>\n",
       "      <td>1180277</td>\n",
       "    </tr>\n",
       "    <tr>\n",
       "      <th>3</th>\n",
       "      <td>xiaomi</td>\n",
       "      <td>843987</td>\n",
       "    </tr>\n",
       "    <tr>\n",
       "      <th>4</th>\n",
       "      <td>huawei</td>\n",
       "      <td>273904</td>\n",
       "    </tr>\n",
       "    <tr>\n",
       "      <th>5</th>\n",
       "      <td>lucente</td>\n",
       "      <td>187626</td>\n",
       "    </tr>\n",
       "    <tr>\n",
       "      <th>6</th>\n",
       "      <td>cordiant</td>\n",
       "      <td>179698</td>\n",
       "    </tr>\n",
       "    <tr>\n",
       "      <th>7</th>\n",
       "      <td>lg</td>\n",
       "      <td>168707</td>\n",
       "    </tr>\n",
       "    <tr>\n",
       "      <th>8</th>\n",
       "      <td>bosch</td>\n",
       "      <td>160061</td>\n",
       "    </tr>\n",
       "    <tr>\n",
       "      <th>9</th>\n",
       "      <td>oppo</td>\n",
       "      <td>153036</td>\n",
       "    </tr>\n",
       "  </tbody>\n",
       "</table>\n",
       "</div>"
      ],
      "text/plain": [
       "      brand      cnt\n",
       "0      None  1726534\n",
       "1   samsung  1429123\n",
       "2     apple  1180277\n",
       "3    xiaomi   843987\n",
       "4    huawei   273904\n",
       "5   lucente   187626\n",
       "6  cordiant   179698\n",
       "7        lg   168707\n",
       "8     bosch   160061\n",
       "9      oppo   153036"
      ]
     },
     "execution_count": 66,
     "metadata": {},
     "output_type": "execute_result"
    }
   ],
   "source": [
    "result_total.select(\"*\").toPandas()"
   ]
  },
  {
   "cell_type": "code",
   "execution_count": null,
   "id": "8dc9c2e5",
   "metadata": {},
   "outputs": [],
   "source": [
    "from google.cloud import bigquery\n",
    "from google.oauth2 import service_account\n",
    "import pandas as pd\n",
    "import pyarrow\n",
    "\n",
    "# GCP 서비스 계정 키 파일 경로\n",
    "key_path = \"/home/oh/spark/unique-hour-395905-146673f22a80.json\"\n",
    "\n",
    "# 프로젝트 및 데이터셋 ID\n",
    "project_id = \"unique-hour-395905\"\n",
    "dataset_id = \"unique-hour-395905.shopping_mall\"\n",
    "\n",
    "# BigQuery 클라이언트 설정\n",
    "client = bigquery.Client.from_service_account_json(key_path)\n",
    "\n",
    "# 데이터 프레임을 팬더스 데이터 프레임으로 변환(데이터 시리얼라이즈)\n",
    "pandas_df = result_total.select(\"*\").toPandas()\n",
    "\n",
    "# BigQuery로 데이터 프레임 전송\n",
    "table_id = \"unique-hour-395905.shopping_mall.oh\"\n",
    "\n",
    "job_config = bigquery.LoadJobConfig(\n",
    "    # 스키마 자동 감지\n",
    "    schema=[],\n",
    "    autodetect=True,\n",
    "    # 데이터 쓰기 방식 선택\n",
    "    write_disposition=bigquery.WriteDisposition.WRITE_TRUNCATE,  # 이전 테이블 데이터 대체\n",
    ")\n",
    "\n",
    "# BigQuery에 데이터 프레임 불러오기\n",
    "job = client.load_table_from_dataframe(\n",
    "    pandas_df, table_id, job_config=job_config\n",
    ")\n",
    "\n",
    "# 작업 완료 시간 기록\n",
    "job.result()"
   ]
  }
 ],
 "metadata": {
  "kernelspec": {
   "display_name": "base",
   "language": "python",
   "name": "python3"
  },
  "language_info": {
   "codemirror_mode": {
    "name": "ipython",
    "version": 3
   },
   "file_extension": ".py",
   "mimetype": "text/x-python",
   "name": "python",
   "nbconvert_exporter": "python",
   "pygments_lexer": "ipython3",
   "version": "3.10.6"
  }
 },
 "nbformat": 4,
 "nbformat_minor": 5
}
